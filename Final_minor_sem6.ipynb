{
  "cells": [
    {
      "cell_type": "code",
      "execution_count": null,
      "metadata": {
        "id": "MsOJ-RqHEs-v"
      },
      "outputs": [],
      "source": [
        "import matplotlib.pyplot as plt   #helps in interactive visualisation\n",
        "import numpy as np                #working with arrays    \n",
        "import pandas as pd               #helps in data manipulation in python \n",
        "\n",
        "import os                         #provides function for operating with operating system        \n",
        "\n",
        "import seaborn as sns             #data visualisation based on matplotlib, provides high-level interface\n",
        "\n",
        "import keras                      #acts as inteface for tensorflow library, provides interface for ANN\n",
        "\n",
        "from glob import glob             #returns all file paths that match a specific pattern\n",
        "\n",
        "from PIL import Image             #used to adjust pixel for the image etc, inshort image editing features\n",
        "\n",
        "from google.colab import drive                              #Mount drive\n",
        "\n",
        "from sklearn.model_selection import train_test_split        #split the the dataset into training and testing set\n",
        "\n",
        "from keras.utils.np_utils import to_categorical             #Converts a class vector (integers) to binary class matrix\n",
        "\n",
        "from keras.models import Sequential                         #Create models layer-by-layer in a step-by-step function\n",
        "\n",
        "from keras.layers.convolutional import Conv2D               #\n",
        "\n",
        "from keras.layers import Dense, Dropout, Flatten, Conv2D, MaxPool2D, AveragePooling2D, Activation     \n",
        "\n",
        "from keras.callbacks import ReduceLROnPlateau, EarlyStopping                            #Turning down the learning rate reduces the random fluctuations in the errors \n",
        "                                                                         #due to the different gradients on different mini-batches.    \n",
        "from tensorflow.keras.layers import BatchNormalization\n",
        "\n",
        "from keras.preprocessing.image import ImageDataGenerator                #applies changes in images in real-time while model\n",
        "                                                                        # is still training. You can apply any random transformations on \n",
        "                                                                        # each training image as it is passed to the model. This will not \n",
        "                                                                        # only make your model robust but will also save up on the overhead memory\n",
        "\n",
        "from tensorflow.keras.optimizers import Adam                    \n",
        "\n",
        "from imblearn.over_sampling import RandomOverSampler \n",
        "\n",
        "import tensorflow as tf\n",
        "\n"
      ]
    },
    {
      "cell_type": "code",
      "execution_count": null,
      "metadata": {
        "id": "a0w8Eq6gJFIm",
        "colab": {
          "base_uri": "https://localhost:8080/"
        },
        "outputId": "261ebe15-0207-4549-fc5b-b4d94ed97159"
      },
      "outputs": [
        {
          "output_type": "stream",
          "name": "stdout",
          "text": [
            "Mounted at /content/drive\n"
          ]
        }
      ],
      "source": [
        "from google.colab import drive\n",
        "drive.mount('/content/drive', force_remount=True)"
      ]
    },
    {
      "cell_type": "code",
      "execution_count": null,
      "metadata": {
        "id": "mBv-8KAnIwI5"
      },
      "outputs": [],
      "source": [
        "# !unzip /content/drive/MyDrive/HAM10000_ZIPPED.zip > /dev/null"
      ]
    },
    {
      "cell_type": "code",
      "execution_count": null,
      "metadata": {
        "id": "Prfq-8F5rb-n"
      },
      "outputs": [],
      "source": [
        "#change of var name -> 2\n",
        "\n",
        "skin_dir = '/content/drive/MyDrive'\n",
        "img_path_dict = {os.path.splitext(os.path.basename(x))[0]: x\n",
        "                     for x in glob(os.path.join(skin_dir,'*', '*.jpg'))}\n",
        "#print(img_path_dict)"
      ]
    },
    {
      "cell_type": "markdown",
      "metadata": {
        "id": "gpu4AtiBPB2R"
      },
      "source": [
        "We created a dictionary for abbreviated labels for the diseases"
      ]
    },
    {
      "cell_type": "code",
      "execution_count": null,
      "metadata": {
        "id": "q2kKgU2Ysl3p"
      },
      "outputs": [],
      "source": [
        "#change of var name -> 1\n",
        "#Dict created for proper matching abbrv. with the dataset\n",
        "\n",
        "lesion_dict = {\n",
        "    'nv': 'Melanocytic nevi',\n",
        "    'mel': 'Melanoma',\n",
        "    'bkl': 'Benign keratosis-like lesions ',\n",
        "    'bcc': 'Basal cell carcinoma',\n",
        "    'akiec': 'Actinic keratoses',\n",
        "    'vasc': 'Vascular lesions',\n",
        "    'df': 'Dermatofibroma'\n",
        "}\n",
        "\n",
        "lesion_class_dict = {\n",
        "    0 : 'nv',\n",
        "    1 : 'mel',\n",
        "    2 : 'bkl',\n",
        "    3 : 'bcc',\n",
        "    4 : 'akiec',\n",
        "    5 : 'vasc',\n",
        "    6 : 'df',\n",
        "    \n",
        "}\n",
        "\n",
        "\n",
        "test_batches = {\n",
        "    'nv' : 0,\n",
        "    'mel' : 1,\n",
        "    'bkl' : 2, \n",
        "    'bcc' : 3,\n",
        "    'akiec' : 4,\n",
        "    'vasc' : 5,\n",
        "    'df' : 6,\n",
        "    \n",
        "}"
      ]
    },
    {
      "cell_type": "markdown",
      "metadata": {
        "id": "vptXcl7mPATC"
      },
      "source": [
        "Added columns for better readability"
      ]
    },
    {
      "cell_type": "code",
      "execution_count": null,
      "metadata": {
        "id": "U61-rO_4eI5I"
      },
      "outputs": [],
      "source": [
        "skin_df = pd.read_csv('/content/drive/MyDrive/HAM10000_metadata.csv')\n",
        "\n",
        "# Creating New Columns for better readability\n",
        "\n",
        "skin_df['Path'] = skin_df['image_id'].map(img_path_dict.get)                  #corresponding values are added in the dataset using map function \n",
        "skin_df['cell_type'] = skin_df['dx'].map(lesion_dict.get) \n",
        "skin_df['cell_type_idx'] = pd.Categorical(skin_df['cell_type']).codes"
      ]
    },
    {
      "cell_type": "code",
      "source": [
        "a = skin_df['dx_type'].value_counts()\n",
        "\n",
        "print(type(a))\n",
        "a.to_dict()\n",
        "\n",
        "print(type(a))\n",
        "a"
      ],
      "metadata": {
        "id": "518Km67s5qDd",
        "colab": {
          "base_uri": "https://localhost:8080/"
        },
        "outputId": "a9a11f8a-9de1-485c-dfaa-5f3bad17f96f"
      },
      "execution_count": null,
      "outputs": [
        {
          "output_type": "stream",
          "name": "stdout",
          "text": [
            "<class 'pandas.core.series.Series'>\n",
            "<class 'pandas.core.series.Series'>\n"
          ]
        },
        {
          "output_type": "execute_result",
          "data": {
            "text/plain": [
              "histo        5340\n",
              "follow_up    3704\n",
              "consensus     902\n",
              "confocal       69\n",
              "Name: dx_type, dtype: int64"
            ]
          },
          "metadata": {},
          "execution_count": 7
        }
      ]
    },
    {
      "cell_type": "code",
      "execution_count": null,
      "metadata": {
        "id": "M1XYJOPLoUqo",
        "colab": {
          "base_uri": "https://localhost:8080/",
          "height": 206
        },
        "outputId": "32bd4cfd-412f-446c-938d-253e33282f24"
      },
      "outputs": [
        {
          "output_type": "execute_result",
          "data": {
            "text/plain": [
              "     lesion_id      image_id   dx dx_type   age   sex localization  \\\n",
              "0  HAM_0000118  ISIC_0027419  bkl   histo  80.0  male        scalp   \n",
              "1  HAM_0000118  ISIC_0025030  bkl   histo  80.0  male        scalp   \n",
              "2  HAM_0002730  ISIC_0026769  bkl   histo  80.0  male        scalp   \n",
              "3  HAM_0002730  ISIC_0025661  bkl   histo  80.0  male        scalp   \n",
              "4  HAM_0001466  ISIC_0031633  bkl   histo  75.0  male          ear   \n",
              "\n",
              "                                                Path  \\\n",
              "0  /content/drive/MyDrive/HAM10000_images_part_1/...   \n",
              "1  /content/drive/MyDrive/HAM10000_images_part_1/...   \n",
              "2  /content/drive/MyDrive/HAM10000_images_part_1/...   \n",
              "3  /content/drive/MyDrive/HAM10000_images_part_1/...   \n",
              "4  /content/drive/MyDrive/HAM10000_images_part_2/...   \n",
              "\n",
              "                        cell_type  cell_type_idx  \n",
              "0  Benign keratosis-like lesions               2  \n",
              "1  Benign keratosis-like lesions               2  \n",
              "2  Benign keratosis-like lesions               2  \n",
              "3  Benign keratosis-like lesions               2  \n",
              "4  Benign keratosis-like lesions               2  "
            ],
            "text/html": [
              "\n",
              "  <div id=\"df-7c6fb712-2d2a-4376-856b-923d90cc010e\">\n",
              "    <div class=\"colab-df-container\">\n",
              "      <div>\n",
              "<style scoped>\n",
              "    .dataframe tbody tr th:only-of-type {\n",
              "        vertical-align: middle;\n",
              "    }\n",
              "\n",
              "    .dataframe tbody tr th {\n",
              "        vertical-align: top;\n",
              "    }\n",
              "\n",
              "    .dataframe thead th {\n",
              "        text-align: right;\n",
              "    }\n",
              "</style>\n",
              "<table border=\"1\" class=\"dataframe\">\n",
              "  <thead>\n",
              "    <tr style=\"text-align: right;\">\n",
              "      <th></th>\n",
              "      <th>lesion_id</th>\n",
              "      <th>image_id</th>\n",
              "      <th>dx</th>\n",
              "      <th>dx_type</th>\n",
              "      <th>age</th>\n",
              "      <th>sex</th>\n",
              "      <th>localization</th>\n",
              "      <th>Path</th>\n",
              "      <th>cell_type</th>\n",
              "      <th>cell_type_idx</th>\n",
              "    </tr>\n",
              "  </thead>\n",
              "  <tbody>\n",
              "    <tr>\n",
              "      <th>0</th>\n",
              "      <td>HAM_0000118</td>\n",
              "      <td>ISIC_0027419</td>\n",
              "      <td>bkl</td>\n",
              "      <td>histo</td>\n",
              "      <td>80.0</td>\n",
              "      <td>male</td>\n",
              "      <td>scalp</td>\n",
              "      <td>/content/drive/MyDrive/HAM10000_images_part_1/...</td>\n",
              "      <td>Benign keratosis-like lesions</td>\n",
              "      <td>2</td>\n",
              "    </tr>\n",
              "    <tr>\n",
              "      <th>1</th>\n",
              "      <td>HAM_0000118</td>\n",
              "      <td>ISIC_0025030</td>\n",
              "      <td>bkl</td>\n",
              "      <td>histo</td>\n",
              "      <td>80.0</td>\n",
              "      <td>male</td>\n",
              "      <td>scalp</td>\n",
              "      <td>/content/drive/MyDrive/HAM10000_images_part_1/...</td>\n",
              "      <td>Benign keratosis-like lesions</td>\n",
              "      <td>2</td>\n",
              "    </tr>\n",
              "    <tr>\n",
              "      <th>2</th>\n",
              "      <td>HAM_0002730</td>\n",
              "      <td>ISIC_0026769</td>\n",
              "      <td>bkl</td>\n",
              "      <td>histo</td>\n",
              "      <td>80.0</td>\n",
              "      <td>male</td>\n",
              "      <td>scalp</td>\n",
              "      <td>/content/drive/MyDrive/HAM10000_images_part_1/...</td>\n",
              "      <td>Benign keratosis-like lesions</td>\n",
              "      <td>2</td>\n",
              "    </tr>\n",
              "    <tr>\n",
              "      <th>3</th>\n",
              "      <td>HAM_0002730</td>\n",
              "      <td>ISIC_0025661</td>\n",
              "      <td>bkl</td>\n",
              "      <td>histo</td>\n",
              "      <td>80.0</td>\n",
              "      <td>male</td>\n",
              "      <td>scalp</td>\n",
              "      <td>/content/drive/MyDrive/HAM10000_images_part_1/...</td>\n",
              "      <td>Benign keratosis-like lesions</td>\n",
              "      <td>2</td>\n",
              "    </tr>\n",
              "    <tr>\n",
              "      <th>4</th>\n",
              "      <td>HAM_0001466</td>\n",
              "      <td>ISIC_0031633</td>\n",
              "      <td>bkl</td>\n",
              "      <td>histo</td>\n",
              "      <td>75.0</td>\n",
              "      <td>male</td>\n",
              "      <td>ear</td>\n",
              "      <td>/content/drive/MyDrive/HAM10000_images_part_2/...</td>\n",
              "      <td>Benign keratosis-like lesions</td>\n",
              "      <td>2</td>\n",
              "    </tr>\n",
              "  </tbody>\n",
              "</table>\n",
              "</div>\n",
              "      <button class=\"colab-df-convert\" onclick=\"convertToInteractive('df-7c6fb712-2d2a-4376-856b-923d90cc010e')\"\n",
              "              title=\"Convert this dataframe to an interactive table.\"\n",
              "              style=\"display:none;\">\n",
              "        \n",
              "  <svg xmlns=\"http://www.w3.org/2000/svg\" height=\"24px\"viewBox=\"0 0 24 24\"\n",
              "       width=\"24px\">\n",
              "    <path d=\"M0 0h24v24H0V0z\" fill=\"none\"/>\n",
              "    <path d=\"M18.56 5.44l.94 2.06.94-2.06 2.06-.94-2.06-.94-.94-2.06-.94 2.06-2.06.94zm-11 1L8.5 8.5l.94-2.06 2.06-.94-2.06-.94L8.5 2.5l-.94 2.06-2.06.94zm10 10l.94 2.06.94-2.06 2.06-.94-2.06-.94-.94-2.06-.94 2.06-2.06.94z\"/><path d=\"M17.41 7.96l-1.37-1.37c-.4-.4-.92-.59-1.43-.59-.52 0-1.04.2-1.43.59L10.3 9.45l-7.72 7.72c-.78.78-.78 2.05 0 2.83L4 21.41c.39.39.9.59 1.41.59.51 0 1.02-.2 1.41-.59l7.78-7.78 2.81-2.81c.8-.78.8-2.07 0-2.86zM5.41 20L4 18.59l7.72-7.72 1.47 1.35L5.41 20z\"/>\n",
              "  </svg>\n",
              "      </button>\n",
              "      \n",
              "  <style>\n",
              "    .colab-df-container {\n",
              "      display:flex;\n",
              "      flex-wrap:wrap;\n",
              "      gap: 12px;\n",
              "    }\n",
              "\n",
              "    .colab-df-convert {\n",
              "      background-color: #E8F0FE;\n",
              "      border: none;\n",
              "      border-radius: 50%;\n",
              "      cursor: pointer;\n",
              "      display: none;\n",
              "      fill: #1967D2;\n",
              "      height: 32px;\n",
              "      padding: 0 0 0 0;\n",
              "      width: 32px;\n",
              "    }\n",
              "\n",
              "    .colab-df-convert:hover {\n",
              "      background-color: #E2EBFA;\n",
              "      box-shadow: 0px 1px 2px rgba(60, 64, 67, 0.3), 0px 1px 3px 1px rgba(60, 64, 67, 0.15);\n",
              "      fill: #174EA6;\n",
              "    }\n",
              "\n",
              "    [theme=dark] .colab-df-convert {\n",
              "      background-color: #3B4455;\n",
              "      fill: #D2E3FC;\n",
              "    }\n",
              "\n",
              "    [theme=dark] .colab-df-convert:hover {\n",
              "      background-color: #434B5C;\n",
              "      box-shadow: 0px 1px 3px 1px rgba(0, 0, 0, 0.15);\n",
              "      filter: drop-shadow(0px 1px 2px rgba(0, 0, 0, 0.3));\n",
              "      fill: #FFFFFF;\n",
              "    }\n",
              "  </style>\n",
              "\n",
              "      <script>\n",
              "        const buttonEl =\n",
              "          document.querySelector('#df-7c6fb712-2d2a-4376-856b-923d90cc010e button.colab-df-convert');\n",
              "        buttonEl.style.display =\n",
              "          google.colab.kernel.accessAllowed ? 'block' : 'none';\n",
              "\n",
              "        async function convertToInteractive(key) {\n",
              "          const element = document.querySelector('#df-7c6fb712-2d2a-4376-856b-923d90cc010e');\n",
              "          const dataTable =\n",
              "            await google.colab.kernel.invokeFunction('convertToInteractive',\n",
              "                                                     [key], {});\n",
              "          if (!dataTable) return;\n",
              "\n",
              "          const docLinkHtml = 'Like what you see? Visit the ' +\n",
              "            '<a target=\"_blank\" href=https://colab.research.google.com/notebooks/data_table.ipynb>data table notebook</a>'\n",
              "            + ' to learn more about interactive tables.';\n",
              "          element.innerHTML = '';\n",
              "          dataTable['output_type'] = 'display_data';\n",
              "          await google.colab.output.renderOutput(dataTable, element);\n",
              "          const docLink = document.createElement('div');\n",
              "          docLink.innerHTML = docLinkHtml;\n",
              "          element.appendChild(docLink);\n",
              "        }\n",
              "      </script>\n",
              "    </div>\n",
              "  </div>\n",
              "  "
            ]
          },
          "metadata": {},
          "execution_count": 8
        }
      ],
      "source": [
        "skin_df.head()"
      ]
    },
    {
      "cell_type": "code",
      "execution_count": null,
      "metadata": {
        "id": "9DDGmeiAQ6qD",
        "colab": {
          "base_uri": "https://localhost:8080/",
          "height": 36
        },
        "outputId": "303fe10e-b163-4d45-cc42-d171fd402eaf"
      },
      "outputs": [
        {
          "output_type": "execute_result",
          "data": {
            "text/plain": [
              "'/content/drive/MyDrive/HAM10000_images_part_1/ISIC_0026769.jpg'"
            ],
            "application/vnd.google.colaboratory.intrinsic+json": {
              "type": "string"
            }
          },
          "metadata": {},
          "execution_count": 9
        }
      ],
      "source": [
        "skin_df['Path'][2]"
      ]
    },
    {
      "cell_type": "code",
      "execution_count": null,
      "metadata": {
        "id": "1QjCwgBXfmUA",
        "colab": {
          "base_uri": "https://localhost:8080/"
        },
        "outputId": "77eca57a-c5e5-42dc-f566-824c26751ea1"
      },
      "outputs": [
        {
          "output_type": "execute_result",
          "data": {
            "text/plain": [
              "array(['histo', 'consensus', 'confocal', 'follow_up'], dtype=object)"
            ]
          },
          "metadata": {},
          "execution_count": 10
        }
      ],
      "source": [
        "skin_df['dx_type'].unique()"
      ]
    },
    {
      "cell_type": "code",
      "execution_count": null,
      "metadata": {
        "id": "-XEy2wMfXSXe",
        "colab": {
          "base_uri": "https://localhost:8080/"
        },
        "outputId": "3c747a85-46a0-4c89-a922-233d3aa00db5"
      },
      "outputs": [
        {
          "output_type": "stream",
          "name": "stdout",
          "text": [
            "<class 'pandas.core.frame.DataFrame'>\n",
            "RangeIndex: 10015 entries, 0 to 10014\n",
            "Data columns (total 10 columns):\n",
            " #   Column         Non-Null Count  Dtype  \n",
            "---  ------         --------------  -----  \n",
            " 0   lesion_id      10015 non-null  object \n",
            " 1   image_id       10015 non-null  object \n",
            " 2   dx             10015 non-null  object \n",
            " 3   dx_type        10015 non-null  object \n",
            " 4   age            9958 non-null   float64\n",
            " 5   sex            10015 non-null  object \n",
            " 6   localization   10015 non-null  object \n",
            " 7   Path           10015 non-null  object \n",
            " 8   cell_type      10015 non-null  object \n",
            " 9   cell_type_idx  10015 non-null  int8   \n",
            "dtypes: float64(1), int8(1), object(8)\n",
            "memory usage: 714.1+ KB\n",
            "None\n"
          ]
        }
      ],
      "source": [
        "print(skin_df.info())"
      ]
    },
    {
      "cell_type": "code",
      "execution_count": null,
      "metadata": {
        "id": "TxlN8ktSQ-iW",
        "colab": {
          "base_uri": "https://localhost:8080/"
        },
        "outputId": "2033d297-ef13-4b0e-fd27-8905cc4dc6c5"
      },
      "outputs": [
        {
          "output_type": "execute_result",
          "data": {
            "text/plain": [
              "lesion_id         0\n",
              "image_id          0\n",
              "dx                0\n",
              "dx_type           0\n",
              "age              57\n",
              "sex               0\n",
              "localization      0\n",
              "Path              0\n",
              "cell_type         0\n",
              "cell_type_idx     0\n",
              "dtype: int64"
            ]
          },
          "metadata": {},
          "execution_count": 12
        }
      ],
      "source": [
        "skin_df.isnull().sum()"
      ]
    },
    {
      "cell_type": "code",
      "execution_count": null,
      "metadata": {
        "id": "eCH5Pz_KT20r"
      },
      "outputs": [],
      "source": [
        "#Since only 'age' attribute has null values with a count of 57\n",
        "#Filling it with their mean\n",
        "\n",
        "skin_df['age'].fillna((skin_df['age'].mean()), inplace = True)"
      ]
    },
    {
      "cell_type": "code",
      "execution_count": null,
      "metadata": {
        "id": "TXt8fvF4VaR9",
        "colab": {
          "base_uri": "https://localhost:8080/"
        },
        "outputId": "c4953c46-495c-4d67-f78f-539b924e5371"
      },
      "outputs": [
        {
          "output_type": "execute_result",
          "data": {
            "text/plain": [
              "lesion_id        0\n",
              "image_id         0\n",
              "dx               0\n",
              "dx_type          0\n",
              "age              0\n",
              "sex              0\n",
              "localization     0\n",
              "Path             0\n",
              "cell_type        0\n",
              "cell_type_idx    0\n",
              "dtype: int64"
            ]
          },
          "metadata": {},
          "execution_count": 14
        }
      ],
      "source": [
        "skin_df.isnull().sum()"
      ]
    },
    {
      "cell_type": "markdown",
      "metadata": {
        "id": "96ZxxZivZvqz"
      },
      "source": [
        "# **EDA**\n",
        "The following is the EDA section where we analyse the data of the datset for further processin and information gathering.\n",
        "\n",
        "1. In the first graph we show the cell type counts for the different diseases."
      ]
    },
    {
      "cell_type": "code",
      "execution_count": null,
      "metadata": {
        "id": "WRpyI7tZFE4l",
        "colab": {
          "base_uri": "https://localhost:8080/"
        },
        "outputId": "1b981b10-f263-4742-ee74-c123d1d2afde"
      },
      "outputs": [
        {
          "output_type": "execute_result",
          "data": {
            "text/plain": [
              "Melanocytic nevi                  6705\n",
              "Melanoma                          1113\n",
              "Benign keratosis-like lesions     1099\n",
              "Basal cell carcinoma               514\n",
              "Actinic keratoses                  327\n",
              "Vascular lesions                   142\n",
              "Dermatofibroma                     115\n",
              "Name: cell_type, dtype: int64"
            ]
          },
          "metadata": {},
          "execution_count": 15
        }
      ],
      "source": [
        "skin_df['cell_type'].value_counts()"
      ]
    },
    {
      "cell_type": "code",
      "execution_count": null,
      "metadata": {
        "id": "l96CuZOjZzhU",
        "colab": {
          "base_uri": "https://localhost:8080/",
          "height": 485
        },
        "outputId": "fe93f2ee-74f0-468c-f111-9280fef0d1c3"
      },
      "outputs": [
        {
          "output_type": "display_data",
          "data": {
            "text/plain": [
              "<Figure size 720x360 with 1 Axes>"
            ],
            "image/png": "[encoded data removed]"
          },
          "metadata": {
            "needs_background": "light"
          }
        }
      ],
      "source": [
        "fig, ax1 = plt.subplots(1, 1, figsize= (10, 5))\n",
        "skin_df['cell_type'].value_counts().plot(kind='bar', ax=ax1, color = (0.1, 0.4, 0.4, 0.6))\n",
        "plt.title('CELL-TYPE COUNTS')\n",
        "plt.xlabel('Cell type')\n",
        "plt.ylabel('Count')\n",
        "#addlabels(x, y)\n",
        "plt.show()"
      ]
    },
    {
      "cell_type": "markdown",
      "metadata": {
        "id": "vHzLYp9aBqg0"
      },
      "source": [
        "\n",
        "\n",
        "*   #### According to this graph, Melanocytic nevi is majority in number in the given dataset \n",
        "* #### Melanoma type of cell has second highest count in the dataset.\n",
        "\n"
      ]
    },
    {
      "cell_type": "markdown",
      "metadata": {
        "id": "fsJkHdOmQVVg"
      },
      "source": [
        "2. In the next graph we show where the disease cells are located in all the dataset"
      ]
    },
    {
      "cell_type": "code",
      "execution_count": null,
      "metadata": {
        "id": "KGIpNk5ua0zX"
      },
      "outputs": [],
      "source": [
        "# skin_df['localization'].value_counts().plot(kind='bar',color = (0.5, 0.4, 0.7, 0.6))\n",
        "# plt.title('LOCALIZATION COUNT')\n",
        "# plt.xlabel('Location of disease')\n",
        "# plt.ylabel('Count')\n",
        "# plt.show()"
      ]
    },
    {
      "cell_type": "code",
      "execution_count": null,
      "metadata": {
        "id": "lvTGsuyfRjlb",
        "colab": {
          "base_uri": "https://localhost:8080/",
          "height": 295
        },
        "outputId": "7e4c452b-2457-4bd7-daed-3fc5fa167499"
      },
      "outputs": [
        {
          "output_type": "display_data",
          "data": {
            "text/plain": [
              "<Figure size 432x288 with 1 Axes>"
            ],
            "image/png": "[encoded data removed]"
          },
          "metadata": {
            "needs_background": "light"
          }
        }
      ],
      "source": [
        "ax=sns.countplot(data=skin_df, y='localization', order=skin_df.localization.value_counts().index, palette = \"rocket\")\n",
        "#ax.set_xticklabels(ax.get_xticklabels(),rotation = 90)\n",
        "plt.title('LOCALIZATION COUNT')\n",
        "plt.ylabel('Location of disease')\n",
        "plt.xlabel('Count')\n",
        "plt.show()"
      ]
    },
    {
      "cell_type": "code",
      "execution_count": null,
      "metadata": {
        "id": "vrrRqLb9fXod",
        "colab": {
          "base_uri": "https://localhost:8080/",
          "height": 331
        },
        "outputId": "47e1e9d8-7a9f-4baf-8aba-1532a745cb59"
      },
      "outputs": [
        {
          "output_type": "display_data",
          "data": {
            "text/plain": [
              "<Figure size 432x288 with 1 Axes>"
            ],
            "image/png": "[encoded data removed]"
          },
          "metadata": {
            "needs_background": "light"
          }
        }
      ],
      "source": [
        "skin_df['sex'].value_counts().plot(kind='bar', color = (0.3, 0.6, 0.3, 0.6))\n",
        "plt.title('DISTRIBUTION OF DISEASES AMONG DIFFERENT GENDERS')\n",
        "plt.xlabel('Gender')\n",
        "plt.ylabel('Count')\n",
        "plt.show()"
      ]
    },
    {
      "cell_type": "markdown",
      "metadata": {
        "id": "xGhKEcbQRICZ"
      },
      "source": [
        "3. This graph shows us the different age groups which have been affected by the skin diseases"
      ]
    },
    {
      "cell_type": "code",
      "execution_count": null,
      "metadata": {
        "id": "MPyUo0MVC-ol",
        "colab": {
          "base_uri": "https://localhost:8080/",
          "height": 295
        },
        "outputId": "35770cdc-0f48-49ff-dcda-ad5d2f22f2bf"
      },
      "outputs": [
        {
          "output_type": "display_data",
          "data": {
            "text/plain": [
              "<Figure size 432x288 with 1 Axes>"
            ],
            "image/png": "[encoded data removed]"
          },
          "metadata": {
            "needs_background": "light"
          }
        }
      ],
      "source": [
        "sns.kdeplot(skin_df['age'], shade = True)\n",
        "plt.title('DENSITY DISTRIBUTION OF AGE GROUP')\n",
        "plt.show()"
      ]
    },
    {
      "cell_type": "code",
      "execution_count": null,
      "metadata": {
        "id": "QVEaVylnbp-0",
        "colab": {
          "base_uri": "https://localhost:8080/",
          "height": 295
        },
        "outputId": "3722017c-4b76-4a59-c394-2d293c738858"
      },
      "outputs": [
        {
          "output_type": "display_data",
          "data": {
            "text/plain": [
              "<Figure size 432x288 with 1 Axes>"
            ],
            "image/png": "[encoded data removed]"
          },
          "metadata": {
            "needs_background": "light"
          }
        }
      ],
      "source": [
        "skin_df['age'].hist(bins=15, color = (0.7, 0.3, 0.3, 0.6))\n",
        "plt.title('DISTRIBUTION OF DISEASES IN DIFFERENT AGE GROUP')\n",
        "plt.xlabel('Age group')\n",
        "plt.ylabel('Count')\n",
        "plt.show()"
      ]
    },
    {
      "cell_type": "markdown",
      "metadata": {
        "id": "yjap__k3RSaC"
      },
      "source": [
        "4. Information on the different genders who have been affected by the disases"
      ]
    },
    {
      "cell_type": "markdown",
      "metadata": {
        "id": "dptcamx-CNuv"
      },
      "source": [
        "5. This scatterplot gives us the distribution of the cell types among the various age groups"
      ]
    },
    {
      "cell_type": "code",
      "execution_count": null,
      "metadata": {
        "id": "PWfAEWYThyIz",
        "colab": {
          "base_uri": "https://localhost:8080/",
          "height": 295
        },
        "outputId": "c13acf68-96af-4563-975d-9f802b2250de"
      },
      "outputs": [
        {
          "output_type": "display_data",
          "data": {
            "text/plain": [
              "<Figure size 432x288 with 1 Axes>"
            ],
            "image/png": "[encoded data removed]"
          },
          "metadata": {
            "needs_background": "light"
          }
        }
      ],
      "source": [
        "#Visualization of different diseases among different age groups\n",
        "sns.scatterplot(x=skin_df['age'], y = skin_df['cell_type_idx'], palette = 'icefire')\n",
        "plt.title('DISTRIBUTION OF DIFFERENT DISEASES IN DIFFERENT AGE GROUPS')\n",
        "plt.show()"
      ]
    },
    {
      "cell_type": "markdown",
      "metadata": {
        "id": "w4s6F5v8CrfU"
      },
      "source": [
        "6. This graph tells us where the diseases are located"
      ]
    },
    {
      "cell_type": "markdown",
      "metadata": {
        "id": "ddqdqZwWjazj"
      },
      "source": [
        "7. The following plot gives us the count of cells of every disease in different parts of the body."
      ]
    },
    {
      "cell_type": "code",
      "execution_count": null,
      "metadata": {
        "id": "LuHzUj4IeL3u",
        "colab": {
          "base_uri": "https://localhost:8080/",
          "height": 430
        },
        "outputId": "53b59ee8-ea94-4286-ede7-17a8b16c765b"
      },
      "outputs": [
        {
          "output_type": "display_data",
          "data": {
            "text/plain": [
              "<Figure size 432x288 with 1 Axes>"
            ],
            "image/png": "[encoded data removed]"
          },
          "metadata": {
            "needs_background": "light"
          }
        }
      ],
      "source": [
        "local = skin_df[skin_df['localization']=='back']\n",
        "ax=sns.countplot(data=local, x='cell_type', order = local.cell_type.value_counts().index, palette = \"mako\")\n",
        "ax.set_xticklabels(ax.get_xticklabels(),rotation = 90)\n",
        "plt.title('COUNT OF CELL-TYPE OCCURRING IN THE BACK')\n",
        "plt.xlabel('CELL-TYPE')\n",
        "plt.ylabel('COUNT')\n",
        "plt.show()\n"
      ]
    },
    {
      "cell_type": "code",
      "execution_count": null,
      "metadata": {
        "id": "VSTSo2ZUNAkd"
      },
      "outputs": [],
      "source": [
        "# #diseases occuring in back portion of the body\n",
        "# local_df = skin_df[skin_df['localization']=='back']\n",
        "# local_df['cell_type'].value_counts().plot(kind='bar',color = (0.5, 0.9, 0.7, 0.6))\n",
        "# local_df.head()\n",
        "# plt.show()"
      ]
    },
    {
      "cell_type": "code",
      "execution_count": null,
      "metadata": {
        "id": "YMYCpQ3ehRuL",
        "colab": {
          "base_uri": "https://localhost:8080/",
          "height": 197
        },
        "outputId": "20a35b5c-7f3b-4eea-ce87-ca50fc6c790a"
      },
      "outputs": [
        {
          "output_type": "display_data",
          "data": {
            "text/plain": [
              "<Figure size 2197x288 with 7 Axes>"
            ],
            "image/png": "[encoded data removed]"
          },
          "metadata": {
            "needs_background": "light"
          }
        }
      ],
      "source": [
        "ax = sns.displot(\n",
        "    skin_df, y=\"localization\", col=\"cell_type\",\n",
        "    height=4, binwidth = 1, facet_kws=dict(margin_titles=True), hue = 'cell_type',palette = 'rocket' )\n",
        "#plt.xticks(rotation=90)\n",
        "plt.show()"
      ]
    },
    {
      "cell_type": "markdown",
      "metadata": {
        "id": "v0ZNSBS2p-8W"
      },
      "source": [
        "8. Distribution of different diseases across different genders"
      ]
    },
    {
      "cell_type": "code",
      "execution_count": null,
      "metadata": {
        "id": "Cl_9DweQPy-8",
        "colab": {
          "base_uri": "https://localhost:8080/",
          "height": 416
        },
        "outputId": "7c3fc751-13ca-4829-9208-a3505c8fd787"
      },
      "outputs": [
        {
          "output_type": "display_data",
          "data": {
            "text/plain": [
              "<Figure size 432x288 with 1 Axes>"
            ],
            "image/png": "[encoded data removed]"
          },
          "metadata": {
            "needs_background": "light"
          }
        }
      ],
      "source": [
        "#distribution of diseases b/w males\n",
        "\n",
        "male_df = skin_df[skin_df['sex']=='male']\n",
        "male_df['cell_type'].value_counts().plot(kind='bar',color = (0.0, 0.0, 0.5, 0.6))\n",
        "plt.title('COUNT OF DISEASES BETWEEN MALES')\n",
        "plt.show()"
      ]
    },
    {
      "cell_type": "code",
      "execution_count": null,
      "metadata": {
        "id": "seo6iE8bRCyk",
        "colab": {
          "base_uri": "https://localhost:8080/",
          "height": 416
        },
        "outputId": "dd9400ca-2063-4c1f-bdf2-351164f7e844"
      },
      "outputs": [
        {
          "output_type": "display_data",
          "data": {
            "text/plain": [
              "<Figure size 432x288 with 1 Axes>"
            ],
            "image/png": "[encoded data removed]"
          },
          "metadata": {
            "needs_background": "light"
          }
        }
      ],
      "source": [
        "#distribution of diseases b/w females\n",
        "\n",
        "female_df = skin_df[skin_df['sex']=='female']\n",
        "female_df['cell_type'].value_counts().plot(kind='bar',color = (1, 0.2, 0.7, 0.9))\n",
        "plt.title('COUNT OF DISEASES BETWEEN FEMALES')\n",
        "plt.show()\n"
      ]
    },
    {
      "cell_type": "code",
      "execution_count": null,
      "metadata": {
        "id": "JAXxqNZwp8Wz",
        "colab": {
          "base_uri": "https://localhost:8080/",
          "height": 441
        },
        "outputId": "09e29f2e-edad-426f-f375-c54ee10849a7"
      },
      "outputs": [
        {
          "output_type": "display_data",
          "data": {
            "text/plain": [
              "<Figure size 613x432 with 1 Axes>"
            ],
            "image/png": "[encoded data removed]"
          },
          "metadata": {
            "needs_background": "light"
          }
        }
      ],
      "source": [
        "ax = sns.displot(\n",
        "    skin_df, x=\"sex\",\n",
        "    binwidth=10, height=6, multiple=\"stack\", hue = 'cell_type',palette = 'rocket' \n",
        ")\n",
        "plt.show()"
      ]
    },
    {
      "cell_type": "markdown",
      "metadata": {
        "id": "1GkjrMQfpDdL"
      },
      "source": [
        "9. How different types of diseases are treated"
      ]
    },
    {
      "cell_type": "code",
      "execution_count": null,
      "metadata": {
        "id": "JakjETikSV7C",
        "colab": {
          "base_uri": "https://localhost:8080/",
          "height": 338
        },
        "outputId": "1c25de88-cb2a-45fb-8f04-4b9c2c9db381"
      },
      "outputs": [
        {
          "output_type": "display_data",
          "data": {
            "text/plain": [
              "<Figure size 432x288 with 1 Axes>"
            ],
            "image/png": "[encoded data removed]"
          },
          "metadata": {
            "needs_background": "light"
          }
        }
      ],
      "source": [
        "#diagnosis type count\n",
        "\n",
        "skin_df['dx_type'].value_counts().plot(kind='bar',color = (0.5, 0.5, 0.7, 0.6))\n",
        "plt.title('COUNT FOR TYPES OF DISEASE TREATMENT')\n",
        "plt.xlabel('Treatments')\n",
        "plt.ylabel('Count')\n",
        "plt.show()"
      ]
    },
    {
      "cell_type": "code",
      "execution_count": null,
      "metadata": {
        "id": "LikblGxwosje",
        "colab": {
          "base_uri": "https://localhost:8080/",
          "height": 197
        },
        "outputId": "234ad20c-da8a-46a7-993e-3efe8e1a46d1"
      },
      "outputs": [
        {
          "output_type": "display_data",
          "data": {
            "text/plain": [
              "<Figure size 2197x288 with 7 Axes>"
            ],
            "image/png": "[encoded data removed]"
          },
          "metadata": {
            "needs_background": "light"
          }
        }
      ],
      "source": [
        "ax = sns.displot(\n",
        "    skin_df, y=\"dx_type\", col=\"cell_type\",\n",
        "    binwidth=10, height=4, facet_kws=dict(margin_titles=True), hue = 'cell_type',palette = 'rocket'\n",
        ")\n",
        "plt.show()"
      ]
    },
    {
      "cell_type": "code",
      "execution_count": null,
      "metadata": {
        "id": "yqUShjgU9JQO",
        "colab": {
          "base_uri": "https://localhost:8080/",
          "height": 206
        },
        "outputId": "fbbd7eca-1344-4907-a927-6a885e5afc02"
      },
      "outputs": [
        {
          "output_type": "execute_result",
          "data": {
            "text/plain": [
              "     lesion_id  image_id  dx  dx_type  age  sex  localization  Path  \\\n",
              "0  HAM_0000001         1   1        1    1    1             1     1   \n",
              "1  HAM_0000003         1   1        1    1    1             1     1   \n",
              "2  HAM_0000004         1   1        1    1    1             1     1   \n",
              "3  HAM_0000007         1   1        1    1    1             1     1   \n",
              "4  HAM_0000008         1   1        1    1    1             1     1   \n",
              "\n",
              "   cell_type  cell_type_idx  \n",
              "0          1              1  \n",
              "1          1              1  \n",
              "2          1              1  \n",
              "3          1              1  \n",
              "4          1              1  "
            ],
            "text/html": [
              "\n",
              "  <div id=\"df-637ffc83-2746-42c8-bdcc-e89b07ee7ed9\">\n",
              "    <div class=\"colab-df-container\">\n",
              "      <div>\n",
              "<style scoped>\n",
              "    .dataframe tbody tr th:only-of-type {\n",
              "        vertical-align: middle;\n",
              "    }\n",
              "\n",
              "    .dataframe tbody tr th {\n",
              "        vertical-align: top;\n",
              "    }\n",
              "\n",
              "    .dataframe thead th {\n",
              "        text-align: right;\n",
              "    }\n",
              "</style>\n",
              "<table border=\"1\" class=\"dataframe\">\n",
              "  <thead>\n",
              "    <tr style=\"text-align: right;\">\n",
              "      <th></th>\n",
              "      <th>lesion_id</th>\n",
              "      <th>image_id</th>\n",
              "      <th>dx</th>\n",
              "      <th>dx_type</th>\n",
              "      <th>age</th>\n",
              "      <th>sex</th>\n",
              "      <th>localization</th>\n",
              "      <th>Path</th>\n",
              "      <th>cell_type</th>\n",
              "      <th>cell_type_idx</th>\n",
              "    </tr>\n",
              "  </thead>\n",
              "  <tbody>\n",
              "    <tr>\n",
              "      <th>0</th>\n",
              "      <td>HAM_0000001</td>\n",
              "      <td>1</td>\n",
              "      <td>1</td>\n",
              "      <td>1</td>\n",
              "      <td>1</td>\n",
              "      <td>1</td>\n",
              "      <td>1</td>\n",
              "      <td>1</td>\n",
              "      <td>1</td>\n",
              "      <td>1</td>\n",
              "    </tr>\n",
              "    <tr>\n",
              "      <th>1</th>\n",
              "      <td>HAM_0000003</td>\n",
              "      <td>1</td>\n",
              "      <td>1</td>\n",
              "      <td>1</td>\n",
              "      <td>1</td>\n",
              "      <td>1</td>\n",
              "      <td>1</td>\n",
              "      <td>1</td>\n",
              "      <td>1</td>\n",
              "      <td>1</td>\n",
              "    </tr>\n",
              "    <tr>\n",
              "      <th>2</th>\n",
              "      <td>HAM_0000004</td>\n",
              "      <td>1</td>\n",
              "      <td>1</td>\n",
              "      <td>1</td>\n",
              "      <td>1</td>\n",
              "      <td>1</td>\n",
              "      <td>1</td>\n",
              "      <td>1</td>\n",
              "      <td>1</td>\n",
              "      <td>1</td>\n",
              "    </tr>\n",
              "    <tr>\n",
              "      <th>3</th>\n",
              "      <td>HAM_0000007</td>\n",
              "      <td>1</td>\n",
              "      <td>1</td>\n",
              "      <td>1</td>\n",
              "      <td>1</td>\n",
              "      <td>1</td>\n",
              "      <td>1</td>\n",
              "      <td>1</td>\n",
              "      <td>1</td>\n",
              "      <td>1</td>\n",
              "    </tr>\n",
              "    <tr>\n",
              "      <th>4</th>\n",
              "      <td>HAM_0000008</td>\n",
              "      <td>1</td>\n",
              "      <td>1</td>\n",
              "      <td>1</td>\n",
              "      <td>1</td>\n",
              "      <td>1</td>\n",
              "      <td>1</td>\n",
              "      <td>1</td>\n",
              "      <td>1</td>\n",
              "      <td>1</td>\n",
              "    </tr>\n",
              "  </tbody>\n",
              "</table>\n",
              "</div>\n",
              "      <button class=\"colab-df-convert\" onclick=\"convertToInteractive('df-637ffc83-2746-42c8-bdcc-e89b07ee7ed9')\"\n",
              "              title=\"Convert this dataframe to an interactive table.\"\n",
              "              style=\"display:none;\">\n",
              "        \n",
              "  <svg xmlns=\"http://www.w3.org/2000/svg\" height=\"24px\"viewBox=\"0 0 24 24\"\n",
              "       width=\"24px\">\n",
              "    <path d=\"M0 0h24v24H0V0z\" fill=\"none\"/>\n",
              "    <path d=\"M18.56 5.44l.94 2.06.94-2.06 2.06-.94-2.06-.94-.94-2.06-.94 2.06-2.06.94zm-11 1L8.5 8.5l.94-2.06 2.06-.94-2.06-.94L8.5 2.5l-.94 2.06-2.06.94zm10 10l.94 2.06.94-2.06 2.06-.94-2.06-.94-.94-2.06-.94 2.06-2.06.94z\"/><path d=\"M17.41 7.96l-1.37-1.37c-.4-.4-.92-.59-1.43-.59-.52 0-1.04.2-1.43.59L10.3 9.45l-7.72 7.72c-.78.78-.78 2.05 0 2.83L4 21.41c.39.39.9.59 1.41.59.51 0 1.02-.2 1.41-.59l7.78-7.78 2.81-2.81c.8-.78.8-2.07 0-2.86zM5.41 20L4 18.59l7.72-7.72 1.47 1.35L5.41 20z\"/>\n",
              "  </svg>\n",
              "      </button>\n",
              "      \n",
              "  <style>\n",
              "    .colab-df-container {\n",
              "      display:flex;\n",
              "      flex-wrap:wrap;\n",
              "      gap: 12px;\n",
              "    }\n",
              "\n",
              "    .colab-df-convert {\n",
              "      background-color: #E8F0FE;\n",
              "      border: none;\n",
              "      border-radius: 50%;\n",
              "      cursor: pointer;\n",
              "      display: none;\n",
              "      fill: #1967D2;\n",
              "      height: 32px;\n",
              "      padding: 0 0 0 0;\n",
              "      width: 32px;\n",
              "    }\n",
              "\n",
              "    .colab-df-convert:hover {\n",
              "      background-color: #E2EBFA;\n",
              "      box-shadow: 0px 1px 2px rgba(60, 64, 67, 0.3), 0px 1px 3px 1px rgba(60, 64, 67, 0.15);\n",
              "      fill: #174EA6;\n",
              "    }\n",
              "\n",
              "    [theme=dark] .colab-df-convert {\n",
              "      background-color: #3B4455;\n",
              "      fill: #D2E3FC;\n",
              "    }\n",
              "\n",
              "    [theme=dark] .colab-df-convert:hover {\n",
              "      background-color: #434B5C;\n",
              "      box-shadow: 0px 1px 3px 1px rgba(0, 0, 0, 0.15);\n",
              "      filter: drop-shadow(0px 1px 2px rgba(0, 0, 0, 0.3));\n",
              "      fill: #FFFFFF;\n",
              "    }\n",
              "  </style>\n",
              "\n",
              "      <script>\n",
              "        const buttonEl =\n",
              "          document.querySelector('#df-637ffc83-2746-42c8-bdcc-e89b07ee7ed9 button.colab-df-convert');\n",
              "        buttonEl.style.display =\n",
              "          google.colab.kernel.accessAllowed ? 'block' : 'none';\n",
              "\n",
              "        async function convertToInteractive(key) {\n",
              "          const element = document.querySelector('#df-637ffc83-2746-42c8-bdcc-e89b07ee7ed9');\n",
              "          const dataTable =\n",
              "            await google.colab.kernel.invokeFunction('convertToInteractive',\n",
              "                                                     [key], {});\n",
              "          if (!dataTable) return;\n",
              "\n",
              "          const docLinkHtml = 'Like what you see? Visit the ' +\n",
              "            '<a target=\"_blank\" href=https://colab.research.google.com/notebooks/data_table.ipynb>data table notebook</a>'\n",
              "            + ' to learn more about interactive tables.';\n",
              "          element.innerHTML = '';\n",
              "          dataTable['output_type'] = 'display_data';\n",
              "          await google.colab.output.renderOutput(dataTable, element);\n",
              "          const docLink = document.createElement('div');\n",
              "          docLink.innerHTML = docLinkHtml;\n",
              "          element.appendChild(docLink);\n",
              "        }\n",
              "      </script>\n",
              "    </div>\n",
              "  </div>\n",
              "  "
            ]
          },
          "metadata": {},
          "execution_count": 31
        }
      ],
      "source": [
        "# this will tell us how many images are associated with each lesion_id\n",
        "df_undup = skin_df.groupby('lesion_id').count()\n",
        "\n",
        "# now we filter out lesion_id's that have only one image associated with it\n",
        "df_undup = df_undup[df_undup['image_id'] == 1]\n",
        "df_undup.reset_index(inplace=True)\n",
        "df_undup.head()"
      ]
    },
    {
      "cell_type": "code",
      "execution_count": null,
      "metadata": {
        "id": "sKOxpWXs-iHx",
        "colab": {
          "base_uri": "https://localhost:8080/",
          "height": 206
        },
        "outputId": "7131cb65-9ee9-42ec-8316-63eedd8ef38e"
      },
      "outputs": [
        {
          "output_type": "execute_result",
          "data": {
            "text/plain": [
              "     lesion_id      image_id   dx dx_type   age   sex localization  \\\n",
              "0  HAM_0000118  ISIC_0027419  bkl   histo  80.0  male        scalp   \n",
              "1  HAM_0000118  ISIC_0025030  bkl   histo  80.0  male        scalp   \n",
              "2  HAM_0002730  ISIC_0026769  bkl   histo  80.0  male        scalp   \n",
              "3  HAM_0002730  ISIC_0025661  bkl   histo  80.0  male        scalp   \n",
              "4  HAM_0001466  ISIC_0031633  bkl   histo  75.0  male          ear   \n",
              "\n",
              "                                                Path  \\\n",
              "0  /content/drive/MyDrive/HAM10000_images_part_1/...   \n",
              "1  /content/drive/MyDrive/HAM10000_images_part_1/...   \n",
              "2  /content/drive/MyDrive/HAM10000_images_part_1/...   \n",
              "3  /content/drive/MyDrive/HAM10000_images_part_1/...   \n",
              "4  /content/drive/MyDrive/HAM10000_images_part_2/...   \n",
              "\n",
              "                        cell_type  cell_type_idx  duplicates  \n",
              "0  Benign keratosis-like lesions               2  duplicated  \n",
              "1  Benign keratosis-like lesions               2  duplicated  \n",
              "2  Benign keratosis-like lesions               2  duplicated  \n",
              "3  Benign keratosis-like lesions               2  duplicated  \n",
              "4  Benign keratosis-like lesions               2  duplicated  "
            ],
            "text/html": [
              "\n",
              "  <div id=\"df-5ba4f480-32cb-4efe-8a5a-b5e63a06f0c7\">\n",
              "    <div class=\"colab-df-container\">\n",
              "      <div>\n",
              "<style scoped>\n",
              "    .dataframe tbody tr th:only-of-type {\n",
              "        vertical-align: middle;\n",
              "    }\n",
              "\n",
              "    .dataframe tbody tr th {\n",
              "        vertical-align: top;\n",
              "    }\n",
              "\n",
              "    .dataframe thead th {\n",
              "        text-align: right;\n",
              "    }\n",
              "</style>\n",
              "<table border=\"1\" class=\"dataframe\">\n",
              "  <thead>\n",
              "    <tr style=\"text-align: right;\">\n",
              "      <th></th>\n",
              "      <th>lesion_id</th>\n",
              "      <th>image_id</th>\n",
              "      <th>dx</th>\n",
              "      <th>dx_type</th>\n",
              "      <th>age</th>\n",
              "      <th>sex</th>\n",
              "      <th>localization</th>\n",
              "      <th>Path</th>\n",
              "      <th>cell_type</th>\n",
              "      <th>cell_type_idx</th>\n",
              "      <th>duplicates</th>\n",
              "    </tr>\n",
              "  </thead>\n",
              "  <tbody>\n",
              "    <tr>\n",
              "      <th>0</th>\n",
              "      <td>HAM_0000118</td>\n",
              "      <td>ISIC_0027419</td>\n",
              "      <td>bkl</td>\n",
              "      <td>histo</td>\n",
              "      <td>80.0</td>\n",
              "      <td>male</td>\n",
              "      <td>scalp</td>\n",
              "      <td>/content/drive/MyDrive/HAM10000_images_part_1/...</td>\n",
              "      <td>Benign keratosis-like lesions</td>\n",
              "      <td>2</td>\n",
              "      <td>duplicated</td>\n",
              "    </tr>\n",
              "    <tr>\n",
              "      <th>1</th>\n",
              "      <td>HAM_0000118</td>\n",
              "      <td>ISIC_0025030</td>\n",
              "      <td>bkl</td>\n",
              "      <td>histo</td>\n",
              "      <td>80.0</td>\n",
              "      <td>male</td>\n",
              "      <td>scalp</td>\n",
              "      <td>/content/drive/MyDrive/HAM10000_images_part_1/...</td>\n",
              "      <td>Benign keratosis-like lesions</td>\n",
              "      <td>2</td>\n",
              "      <td>duplicated</td>\n",
              "    </tr>\n",
              "    <tr>\n",
              "      <th>2</th>\n",
              "      <td>HAM_0002730</td>\n",
              "      <td>ISIC_0026769</td>\n",
              "      <td>bkl</td>\n",
              "      <td>histo</td>\n",
              "      <td>80.0</td>\n",
              "      <td>male</td>\n",
              "      <td>scalp</td>\n",
              "      <td>/content/drive/MyDrive/HAM10000_images_part_1/...</td>\n",
              "      <td>Benign keratosis-like lesions</td>\n",
              "      <td>2</td>\n",
              "      <td>duplicated</td>\n",
              "    </tr>\n",
              "    <tr>\n",
              "      <th>3</th>\n",
              "      <td>HAM_0002730</td>\n",
              "      <td>ISIC_0025661</td>\n",
              "      <td>bkl</td>\n",
              "      <td>histo</td>\n",
              "      <td>80.0</td>\n",
              "      <td>male</td>\n",
              "      <td>scalp</td>\n",
              "      <td>/content/drive/MyDrive/HAM10000_images_part_1/...</td>\n",
              "      <td>Benign keratosis-like lesions</td>\n",
              "      <td>2</td>\n",
              "      <td>duplicated</td>\n",
              "    </tr>\n",
              "    <tr>\n",
              "      <th>4</th>\n",
              "      <td>HAM_0001466</td>\n",
              "      <td>ISIC_0031633</td>\n",
              "      <td>bkl</td>\n",
              "      <td>histo</td>\n",
              "      <td>75.0</td>\n",
              "      <td>male</td>\n",
              "      <td>ear</td>\n",
              "      <td>/content/drive/MyDrive/HAM10000_images_part_2/...</td>\n",
              "      <td>Benign keratosis-like lesions</td>\n",
              "      <td>2</td>\n",
              "      <td>duplicated</td>\n",
              "    </tr>\n",
              "  </tbody>\n",
              "</table>\n",
              "</div>\n",
              "      <button class=\"colab-df-convert\" onclick=\"convertToInteractive('df-5ba4f480-32cb-4efe-8a5a-b5e63a06f0c7')\"\n",
              "              title=\"Convert this dataframe to an interactive table.\"\n",
              "              style=\"display:none;\">\n",
              "        \n",
              "  <svg xmlns=\"http://www.w3.org/2000/svg\" height=\"24px\"viewBox=\"0 0 24 24\"\n",
              "       width=\"24px\">\n",
              "    <path d=\"M0 0h24v24H0V0z\" fill=\"none\"/>\n",
              "    <path d=\"M18.56 5.44l.94 2.06.94-2.06 2.06-.94-2.06-.94-.94-2.06-.94 2.06-2.06.94zm-11 1L8.5 8.5l.94-2.06 2.06-.94-2.06-.94L8.5 2.5l-.94 2.06-2.06.94zm10 10l.94 2.06.94-2.06 2.06-.94-2.06-.94-.94-2.06-.94 2.06-2.06.94z\"/><path d=\"M17.41 7.96l-1.37-1.37c-.4-.4-.92-.59-1.43-.59-.52 0-1.04.2-1.43.59L10.3 9.45l-7.72 7.72c-.78.78-.78 2.05 0 2.83L4 21.41c.39.39.9.59 1.41.59.51 0 1.02-.2 1.41-.59l7.78-7.78 2.81-2.81c.8-.78.8-2.07 0-2.86zM5.41 20L4 18.59l7.72-7.72 1.47 1.35L5.41 20z\"/>\n",
              "  </svg>\n",
              "      </button>\n",
              "      \n",
              "  <style>\n",
              "    .colab-df-container {\n",
              "      display:flex;\n",
              "      flex-wrap:wrap;\n",
              "      gap: 12px;\n",
              "    }\n",
              "\n",
              "    .colab-df-convert {\n",
              "      background-color: #E8F0FE;\n",
              "      border: none;\n",
              "      border-radius: 50%;\n",
              "      cursor: pointer;\n",
              "      display: none;\n",
              "      fill: #1967D2;\n",
              "      height: 32px;\n",
              "      padding: 0 0 0 0;\n",
              "      width: 32px;\n",
              "    }\n",
              "\n",
              "    .colab-df-convert:hover {\n",
              "      background-color: #E2EBFA;\n",
              "      box-shadow: 0px 1px 2px rgba(60, 64, 67, 0.3), 0px 1px 3px 1px rgba(60, 64, 67, 0.15);\n",
              "      fill: #174EA6;\n",
              "    }\n",
              "\n",
              "    [theme=dark] .colab-df-convert {\n",
              "      background-color: #3B4455;\n",
              "      fill: #D2E3FC;\n",
              "    }\n",
              "\n",
              "    [theme=dark] .colab-df-convert:hover {\n",
              "      background-color: #434B5C;\n",
              "      box-shadow: 0px 1px 3px 1px rgba(0, 0, 0, 0.15);\n",
              "      filter: drop-shadow(0px 1px 2px rgba(0, 0, 0, 0.3));\n",
              "      fill: #FFFFFF;\n",
              "    }\n",
              "  </style>\n",
              "\n",
              "      <script>\n",
              "        const buttonEl =\n",
              "          document.querySelector('#df-5ba4f480-32cb-4efe-8a5a-b5e63a06f0c7 button.colab-df-convert');\n",
              "        buttonEl.style.display =\n",
              "          google.colab.kernel.accessAllowed ? 'block' : 'none';\n",
              "\n",
              "        async function convertToInteractive(key) {\n",
              "          const element = document.querySelector('#df-5ba4f480-32cb-4efe-8a5a-b5e63a06f0c7');\n",
              "          const dataTable =\n",
              "            await google.colab.kernel.invokeFunction('convertToInteractive',\n",
              "                                                     [key], {});\n",
              "          if (!dataTable) return;\n",
              "\n",
              "          const docLinkHtml = 'Like what you see? Visit the ' +\n",
              "            '<a target=\"_blank\" href=https://colab.research.google.com/notebooks/data_table.ipynb>data table notebook</a>'\n",
              "            + ' to learn more about interactive tables.';\n",
              "          element.innerHTML = '';\n",
              "          dataTable['output_type'] = 'display_data';\n",
              "          await google.colab.output.renderOutput(dataTable, element);\n",
              "          const docLink = document.createElement('div');\n",
              "          docLink.innerHTML = docLinkHtml;\n",
              "          element.appendChild(docLink);\n",
              "        }\n",
              "      </script>\n",
              "    </div>\n",
              "  </div>\n",
              "  "
            ]
          },
          "metadata": {},
          "execution_count": 32
        }
      ],
      "source": [
        "# here we identify lesion_id's that have duplicate images and those that have only one image.\n",
        "def get_duplicates(x):\n",
        "    unique_list = list(df_undup['lesion_id'])\n",
        "    if x in unique_list:\n",
        "        return 'unduplicated'\n",
        "    else:\n",
        "        return 'duplicated'\n",
        "\n",
        "# create a new colum that is a copy of the lesion_id column\n",
        "skin_df['duplicates'] = skin_df['lesion_id']\n",
        "# apply the function to this new column\n",
        "skin_df['duplicates'] = skin_df['duplicates'].apply(get_duplicates)\n",
        "skin_df.head()"
      ]
    },
    {
      "cell_type": "code",
      "execution_count": null,
      "metadata": {
        "id": "t9-TMfNs-5_u",
        "colab": {
          "base_uri": "https://localhost:8080/"
        },
        "outputId": "153979c0-cdd6-482f-c204-7d0ad379cbb8"
      },
      "outputs": [
        {
          "output_type": "execute_result",
          "data": {
            "text/plain": [
              "unduplicated    5514\n",
              "duplicated      4501\n",
              "Name: duplicates, dtype: int64"
            ]
          },
          "metadata": {},
          "execution_count": 33
        }
      ],
      "source": [
        "skin_df['duplicates'].value_counts()"
      ]
    },
    {
      "cell_type": "markdown",
      "metadata": {
        "id": "KbzHwZfgpCpR"
      },
      "source": [
        ""
      ]
    },
    {
      "cell_type": "code",
      "execution_count": null,
      "metadata": {
        "id": "7j5ryDhAnKT1"
      },
      "outputs": [],
      "source": [
        "#skin_df['image'] = skin_df['Path'].map(lambda x: np.asarray(Image.open(x).resize((100,75))))"
      ]
    },
    {
      "cell_type": "code",
      "execution_count": null,
      "metadata": {
        "id": "gxtKvcdxchUh"
      },
      "outputs": [],
      "source": [
        "# skin_df.head()"
      ]
    },
    {
      "cell_type": "code",
      "execution_count": null,
      "metadata": {
        "id": "DO8ugejTIfih"
      },
      "outputs": [],
      "source": [
        "#plt.imshow(skin_df['image'][21])"
      ]
    },
    {
      "cell_type": "code",
      "execution_count": null,
      "metadata": {
        "id": "LfXenHdAcs-C"
      },
      "outputs": [],
      "source": [
        "# n_samples = 5\n",
        "# fig, m_axs = plt.subplots(7, n_samples, figsize = (4*n_samples, 3*7))\n",
        "# for n_axs, (type_name, type_rows) in zip(m_axs, \n",
        "#                                          skin_df.sort_values(['cell_type']).groupby('cell_type')):\n",
        "#     n_axs[0].set_title(type_name)\n",
        "#     for c_ax, (_, c_row) in zip(n_axs, type_rows.sample(n_samples, random_state=1234).iterrows()):\n",
        "#         c_ax.imshow(c_row['image'])\n",
        "#         c_ax.axis('off')\n",
        "# fig.savefig('category_samples.png', dpi =300)"
      ]
    },
    {
      "cell_type": "markdown",
      "metadata": {
        "id": "QrjtBqAdRLkN"
      },
      "source": [
        "### **Pixel distribution**"
      ]
    },
    {
      "cell_type": "code",
      "execution_count": null,
      "metadata": {
        "id": "Du6sE4pJRJR4",
        "colab": {
          "base_uri": "https://localhost:8080/",
          "height": 299
        },
        "outputId": "73704ff3-8e94-4755-a231-47564bd4e737"
      },
      "outputs": [
        {
          "output_type": "execute_result",
          "data": {
            "text/plain": [
              "   pixel0000  pixel0001  pixel0002  pixel0003  pixel0004  pixel0005  \\\n",
              "0        192        153        193        195        155        192   \n",
              "1         25         14         30         68         48         75   \n",
              "2        192        138        153        200        145        163   \n",
              "3         38         19         30         95         59         72   \n",
              "4        158        113        139        194        144        174   \n",
              "\n",
              "   pixel0006  pixel0007  pixel0008  pixel0009  ...  pixel2343  pixel2344  \\\n",
              "0        197        154        185        202  ...        173        124   \n",
              "1        123         93        126        158  ...         60         39   \n",
              "2        201        142        160        206  ...        167        129   \n",
              "3        143        103        119        171  ...         44         26   \n",
              "4        215        162        191        225  ...        209        166   \n",
              "\n",
              "   pixel2345  pixel2346  pixel2347  pixel2348  pixel2349  pixel2350  \\\n",
              "0        138        183        147        166        185        154   \n",
              "1         55         25         14         28         25         14   \n",
              "2        143        159        124        142        136        104   \n",
              "3         36         25         12         17         25         12   \n",
              "4        185        172        135        149        109         78   \n",
              "\n",
              "   pixel2351  label  \n",
              "0        177      2  \n",
              "1         27      2  \n",
              "2        117      2  \n",
              "3         15      2  \n",
              "4         92      2  \n",
              "\n",
              "[5 rows x 2353 columns]"
            ],
            "text/html": [
              "\n",
              "  <div id=\"df-b98d69aa-9152-41bb-a6a9-b8297e317568\">\n",
              "    <div class=\"colab-df-container\">\n",
              "      <div>\n",
              "<style scoped>\n",
              "    .dataframe tbody tr th:only-of-type {\n",
              "        vertical-align: middle;\n",
              "    }\n",
              "\n",
              "    .dataframe tbody tr th {\n",
              "        vertical-align: top;\n",
              "    }\n",
              "\n",
              "    .dataframe thead th {\n",
              "        text-align: right;\n",
              "    }\n",
              "</style>\n",
              "<table border=\"1\" class=\"dataframe\">\n",
              "  <thead>\n",
              "    <tr style=\"text-align: right;\">\n",
              "      <th></th>\n",
              "      <th>pixel0000</th>\n",
              "      <th>pixel0001</th>\n",
              "      <th>pixel0002</th>\n",
              "      <th>pixel0003</th>\n",
              "      <th>pixel0004</th>\n",
              "      <th>pixel0005</th>\n",
              "      <th>pixel0006</th>\n",
              "      <th>pixel0007</th>\n",
              "      <th>pixel0008</th>\n",
              "      <th>pixel0009</th>\n",
              "      <th>...</th>\n",
              "      <th>pixel2343</th>\n",
              "      <th>pixel2344</th>\n",
              "      <th>pixel2345</th>\n",
              "      <th>pixel2346</th>\n",
              "      <th>pixel2347</th>\n",
              "      <th>pixel2348</th>\n",
              "      <th>pixel2349</th>\n",
              "      <th>pixel2350</th>\n",
              "      <th>pixel2351</th>\n",
              "      <th>label</th>\n",
              "    </tr>\n",
              "  </thead>\n",
              "  <tbody>\n",
              "    <tr>\n",
              "      <th>0</th>\n",
              "      <td>192</td>\n",
              "      <td>153</td>\n",
              "      <td>193</td>\n",
              "      <td>195</td>\n",
              "      <td>155</td>\n",
              "      <td>192</td>\n",
              "      <td>197</td>\n",
              "      <td>154</td>\n",
              "      <td>185</td>\n",
              "      <td>202</td>\n",
              "      <td>...</td>\n",
              "      <td>173</td>\n",
              "      <td>124</td>\n",
              "      <td>138</td>\n",
              "      <td>183</td>\n",
              "      <td>147</td>\n",
              "      <td>166</td>\n",
              "      <td>185</td>\n",
              "      <td>154</td>\n",
              "      <td>177</td>\n",
              "      <td>2</td>\n",
              "    </tr>\n",
              "    <tr>\n",
              "      <th>1</th>\n",
              "      <td>25</td>\n",
              "      <td>14</td>\n",
              "      <td>30</td>\n",
              "      <td>68</td>\n",
              "      <td>48</td>\n",
              "      <td>75</td>\n",
              "      <td>123</td>\n",
              "      <td>93</td>\n",
              "      <td>126</td>\n",
              "      <td>158</td>\n",
              "      <td>...</td>\n",
              "      <td>60</td>\n",
              "      <td>39</td>\n",
              "      <td>55</td>\n",
              "      <td>25</td>\n",
              "      <td>14</td>\n",
              "      <td>28</td>\n",
              "      <td>25</td>\n",
              "      <td>14</td>\n",
              "      <td>27</td>\n",
              "      <td>2</td>\n",
              "    </tr>\n",
              "    <tr>\n",
              "      <th>2</th>\n",
              "      <td>192</td>\n",
              "      <td>138</td>\n",
              "      <td>153</td>\n",
              "      <td>200</td>\n",
              "      <td>145</td>\n",
              "      <td>163</td>\n",
              "      <td>201</td>\n",
              "      <td>142</td>\n",
              "      <td>160</td>\n",
              "      <td>206</td>\n",
              "      <td>...</td>\n",
              "      <td>167</td>\n",
              "      <td>129</td>\n",
              "      <td>143</td>\n",
              "      <td>159</td>\n",
              "      <td>124</td>\n",
              "      <td>142</td>\n",
              "      <td>136</td>\n",
              "      <td>104</td>\n",
              "      <td>117</td>\n",
              "      <td>2</td>\n",
              "    </tr>\n",
              "    <tr>\n",
              "      <th>3</th>\n",
              "      <td>38</td>\n",
              "      <td>19</td>\n",
              "      <td>30</td>\n",
              "      <td>95</td>\n",
              "      <td>59</td>\n",
              "      <td>72</td>\n",
              "      <td>143</td>\n",
              "      <td>103</td>\n",
              "      <td>119</td>\n",
              "      <td>171</td>\n",
              "      <td>...</td>\n",
              "      <td>44</td>\n",
              "      <td>26</td>\n",
              "      <td>36</td>\n",
              "      <td>25</td>\n",
              "      <td>12</td>\n",
              "      <td>17</td>\n",
              "      <td>25</td>\n",
              "      <td>12</td>\n",
              "      <td>15</td>\n",
              "      <td>2</td>\n",
              "    </tr>\n",
              "    <tr>\n",
              "      <th>4</th>\n",
              "      <td>158</td>\n",
              "      <td>113</td>\n",
              "      <td>139</td>\n",
              "      <td>194</td>\n",
              "      <td>144</td>\n",
              "      <td>174</td>\n",
              "      <td>215</td>\n",
              "      <td>162</td>\n",
              "      <td>191</td>\n",
              "      <td>225</td>\n",
              "      <td>...</td>\n",
              "      <td>209</td>\n",
              "      <td>166</td>\n",
              "      <td>185</td>\n",
              "      <td>172</td>\n",
              "      <td>135</td>\n",
              "      <td>149</td>\n",
              "      <td>109</td>\n",
              "      <td>78</td>\n",
              "      <td>92</td>\n",
              "      <td>2</td>\n",
              "    </tr>\n",
              "  </tbody>\n",
              "</table>\n",
              "<p>5 rows × 2353 columns</p>\n",
              "</div>\n",
              "      <button class=\"colab-df-convert\" onclick=\"convertToInteractive('df-b98d69aa-9152-41bb-a6a9-b8297e317568')\"\n",
              "              title=\"Convert this dataframe to an interactive table.\"\n",
              "              style=\"display:none;\">\n",
              "        \n",
              "  <svg xmlns=\"http://www.w3.org/2000/svg\" height=\"24px\"viewBox=\"0 0 24 24\"\n",
              "       width=\"24px\">\n",
              "    <path d=\"M0 0h24v24H0V0z\" fill=\"none\"/>\n",
              "    <path d=\"M18.56 5.44l.94 2.06.94-2.06 2.06-.94-2.06-.94-.94-2.06-.94 2.06-2.06.94zm-11 1L8.5 8.5l.94-2.06 2.06-.94-2.06-.94L8.5 2.5l-.94 2.06-2.06.94zm10 10l.94 2.06.94-2.06 2.06-.94-2.06-.94-.94-2.06-.94 2.06-2.06.94z\"/><path d=\"M17.41 7.96l-1.37-1.37c-.4-.4-.92-.59-1.43-.59-.52 0-1.04.2-1.43.59L10.3 9.45l-7.72 7.72c-.78.78-.78 2.05 0 2.83L4 21.41c.39.39.9.59 1.41.59.51 0 1.02-.2 1.41-.59l7.78-7.78 2.81-2.81c.8-.78.8-2.07 0-2.86zM5.41 20L4 18.59l7.72-7.72 1.47 1.35L5.41 20z\"/>\n",
              "  </svg>\n",
              "      </button>\n",
              "      \n",
              "  <style>\n",
              "    .colab-df-container {\n",
              "      display:flex;\n",
              "      flex-wrap:wrap;\n",
              "      gap: 12px;\n",
              "    }\n",
              "\n",
              "    .colab-df-convert {\n",
              "      background-color: #E8F0FE;\n",
              "      border: none;\n",
              "      border-radius: 50%;\n",
              "      cursor: pointer;\n",
              "      display: none;\n",
              "      fill: #1967D2;\n",
              "      height: 32px;\n",
              "      padding: 0 0 0 0;\n",
              "      width: 32px;\n",
              "    }\n",
              "\n",
              "    .colab-df-convert:hover {\n",
              "      background-color: #E2EBFA;\n",
              "      box-shadow: 0px 1px 2px rgba(60, 64, 67, 0.3), 0px 1px 3px 1px rgba(60, 64, 67, 0.15);\n",
              "      fill: #174EA6;\n",
              "    }\n",
              "\n",
              "    [theme=dark] .colab-df-convert {\n",
              "      background-color: #3B4455;\n",
              "      fill: #D2E3FC;\n",
              "    }\n",
              "\n",
              "    [theme=dark] .colab-df-convert:hover {\n",
              "      background-color: #434B5C;\n",
              "      box-shadow: 0px 1px 3px 1px rgba(0, 0, 0, 0.15);\n",
              "      filter: drop-shadow(0px 1px 2px rgba(0, 0, 0, 0.3));\n",
              "      fill: #FFFFFF;\n",
              "    }\n",
              "  </style>\n",
              "\n",
              "      <script>\n",
              "        const buttonEl =\n",
              "          document.querySelector('#df-b98d69aa-9152-41bb-a6a9-b8297e317568 button.colab-df-convert');\n",
              "        buttonEl.style.display =\n",
              "          google.colab.kernel.accessAllowed ? 'block' : 'none';\n",
              "\n",
              "        async function convertToInteractive(key) {\n",
              "          const element = document.querySelector('#df-b98d69aa-9152-41bb-a6a9-b8297e317568');\n",
              "          const dataTable =\n",
              "            await google.colab.kernel.invokeFunction('convertToInteractive',\n",
              "                                                     [key], {});\n",
              "          if (!dataTable) return;\n",
              "\n",
              "          const docLinkHtml = 'Like what you see? Visit the ' +\n",
              "            '<a target=\"_blank\" href=https://colab.research.google.com/notebooks/data_table.ipynb>data table notebook</a>'\n",
              "            + ' to learn more about interactive tables.';\n",
              "          element.innerHTML = '';\n",
              "          dataTable['output_type'] = 'display_data';\n",
              "          await google.colab.output.renderOutput(dataTable, element);\n",
              "          const docLink = document.createElement('div');\n",
              "          docLink.innerHTML = docLinkHtml;\n",
              "          element.appendChild(docLink);\n",
              "        }\n",
              "      </script>\n",
              "    </div>\n",
              "  </div>\n",
              "  "
            ]
          },
          "metadata": {},
          "execution_count": 38
        }
      ],
      "source": [
        "pix_data = pd.read_csv('/content/drive/MyDrive/hmnist_28_28_RGB.csv')\n",
        "pix_data.head()"
      ]
    },
    {
      "cell_type": "code",
      "source": [
        "%load_ext tensorboard\n",
        "import os\n",
        "import datetime\n",
        "\n",
        "\n",
        "def create_tensorboaord_callback():\n",
        "  logdir = os.path.join(\"/content/drive/MyDrive/dataverse_files/Log_DIR\",\n",
        "                        datetime.datetime.now().strftime(\"%d%m%Y-%H%M%S\"))\n",
        "\n",
        "  return tf.keras.callbacks.TensorBoard(logdir)"
      ],
      "metadata": {
        "id": "o3MpaYvuywIO"
      },
      "execution_count": null,
      "outputs": []
    },
    {
      "cell_type": "code",
      "source": [
        "tensorboard = create_tensorboaord_callback()"
      ],
      "metadata": {
        "id": "ExVrJ4NRyyMF"
      },
      "execution_count": null,
      "outputs": []
    },
    {
      "cell_type": "markdown",
      "metadata": {
        "id": "VZg4vpIcgsWn"
      },
      "source": [
        "## **TRAIN TEST SPLIT**"
      ]
    },
    {
      "cell_type": "code",
      "execution_count": null,
      "metadata": {
        "id": "UU1e6kokd3BC"
      },
      "outputs": [],
      "source": [
        "#var name changed -> 2\n",
        "\n",
        "X = pix_data.drop(columns=['label'],axis=1)\n",
        "y = pix_data['label']"
      ]
    },
    {
      "cell_type": "code",
      "execution_count": null,
      "metadata": {
        "id": "CpnLeU7DjU7v",
        "colab": {
          "base_uri": "https://localhost:8080/"
        },
        "outputId": "9779482a-4ab3-4ddf-c5ea-ab1530a51469"
      },
      "outputs": [
        {
          "output_type": "execute_result",
          "data": {
            "text/plain": [
              "0        2\n",
              "1        2\n",
              "2        2\n",
              "3        2\n",
              "4        2\n",
              "        ..\n",
              "10010    0\n",
              "10011    0\n",
              "10012    0\n",
              "10013    0\n",
              "10014    6\n",
              "Name: label, Length: 10015, dtype: int64"
            ]
          },
          "metadata": {},
          "execution_count": 42
        }
      ],
      "source": [
        "y"
      ]
    },
    {
      "cell_type": "code",
      "execution_count": null,
      "metadata": {
        "id": "RVicEOOHjPEx",
        "colab": {
          "base_uri": "https://localhost:8080/",
          "height": 488
        },
        "outputId": "afb18fb6-0ab2-474e-cbe1-07ecccb7496a"
      },
      "outputs": [
        {
          "output_type": "execute_result",
          "data": {
            "text/plain": [
              "       pixel0000  pixel0001  pixel0002  pixel0003  pixel0004  pixel0005  \\\n",
              "0            192        153        193        195        155        192   \n",
              "1             25         14         30         68         48         75   \n",
              "2            192        138        153        200        145        163   \n",
              "3             38         19         30         95         59         72   \n",
              "4            158        113        139        194        144        174   \n",
              "...          ...        ...        ...        ...        ...        ...   \n",
              "10010        183        165        181        182        165        180   \n",
              "10011          2          3          1         38         33         32   \n",
              "10012        132        118        118        167        149        149   \n",
              "10013        160        124        146        164        131        152   \n",
              "10014        175        142        121        181        150        134   \n",
              "\n",
              "       pixel0006  pixel0007  pixel0008  pixel0009  ...  pixel2342  pixel2343  \\\n",
              "0            197        154        185        202  ...        134        173   \n",
              "1            123         93        126        158  ...         82         60   \n",
              "2            201        142        160        206  ...        149        167   \n",
              "3            143        103        119        171  ...         73         44   \n",
              "4            215        162        191        225  ...        201        209   \n",
              "...          ...        ...        ...        ...  ...        ...        ...   \n",
              "10010        184        166        182        188  ...        181        208   \n",
              "10011        121        104        103        132  ...        129         96   \n",
              "10012        175        156        160        184  ...        190        204   \n",
              "10013        167        127        146        169  ...        165        185   \n",
              "10014        181        150        133        178  ...         48        159   \n",
              "\n",
              "       pixel2344  pixel2345  pixel2346  pixel2347  pixel2348  pixel2349  \\\n",
              "0            124        138        183        147        166        185   \n",
              "1             39         55         25         14         28         25   \n",
              "2            129        143        159        124        142        136   \n",
              "3             26         36         25         12         17         25   \n",
              "4            166        185        172        135        149        109   \n",
              "...          ...        ...        ...        ...        ...        ...   \n",
              "10010        185        187        208        186        186        206   \n",
              "10011         79         76         24         23         21          3   \n",
              "10012        181        178        181        159        153        172   \n",
              "10013        162        167        184        157        166        185   \n",
              "10014         79         82        174        137        125        175   \n",
              "\n",
              "       pixel2350  pixel2351  \n",
              "0            154        177  \n",
              "1             14         27  \n",
              "2            104        117  \n",
              "3             12         15  \n",
              "4             78         92  \n",
              "...          ...        ...  \n",
              "10010        187        189  \n",
              "10011          4          1  \n",
              "10012        151        145  \n",
              "10013        162        172  \n",
              "10014        139        126  \n",
              "\n",
              "[10015 rows x 2352 columns]"
            ],
            "text/html": [
              "\n",
              "  <div id=\"df-cbc50575-a23a-4481-93bc-fcdb7747ae38\">\n",
              "    <div class=\"colab-df-container\">\n",
              "      <div>\n",
              "<style scoped>\n",
              "    .dataframe tbody tr th:only-of-type {\n",
              "        vertical-align: middle;\n",
              "    }\n",
              "\n",
              "    .dataframe tbody tr th {\n",
              "        vertical-align: top;\n",
              "    }\n",
              "\n",
              "    .dataframe thead th {\n",
              "        text-align: right;\n",
              "    }\n",
              "</style>\n",
              "<table border=\"1\" class=\"dataframe\">\n",
              "  <thead>\n",
              "    <tr style=\"text-align: right;\">\n",
              "      <th></th>\n",
              "      <th>pixel0000</th>\n",
              "      <th>pixel0001</th>\n",
              "      <th>pixel0002</th>\n",
              "      <th>pixel0003</th>\n",
              "      <th>pixel0004</th>\n",
              "      <th>pixel0005</th>\n",
              "      <th>pixel0006</th>\n",
              "      <th>pixel0007</th>\n",
              "      <th>pixel0008</th>\n",
              "      <th>pixel0009</th>\n",
              "      <th>...</th>\n",
              "      <th>pixel2342</th>\n",
              "      <th>pixel2343</th>\n",
              "      <th>pixel2344</th>\n",
              "      <th>pixel2345</th>\n",
              "      <th>pixel2346</th>\n",
              "      <th>pixel2347</th>\n",
              "      <th>pixel2348</th>\n",
              "      <th>pixel2349</th>\n",
              "      <th>pixel2350</th>\n",
              "      <th>pixel2351</th>\n",
              "    </tr>\n",
              "  </thead>\n",
              "  <tbody>\n",
              "    <tr>\n",
              "      <th>0</th>\n",
              "      <td>192</td>\n",
              "      <td>153</td>\n",
              "      <td>193</td>\n",
              "      <td>195</td>\n",
              "      <td>155</td>\n",
              "      <td>192</td>\n",
              "      <td>197</td>\n",
              "      <td>154</td>\n",
              "      <td>185</td>\n",
              "      <td>202</td>\n",
              "      <td>...</td>\n",
              "      <td>134</td>\n",
              "      <td>173</td>\n",
              "      <td>124</td>\n",
              "      <td>138</td>\n",
              "      <td>183</td>\n",
              "      <td>147</td>\n",
              "      <td>166</td>\n",
              "      <td>185</td>\n",
              "      <td>154</td>\n",
              "      <td>177</td>\n",
              "    </tr>\n",
              "    <tr>\n",
              "      <th>1</th>\n",
              "      <td>25</td>\n",
              "      <td>14</td>\n",
              "      <td>30</td>\n",
              "      <td>68</td>\n",
              "      <td>48</td>\n",
              "      <td>75</td>\n",
              "      <td>123</td>\n",
              "      <td>93</td>\n",
              "      <td>126</td>\n",
              "      <td>158</td>\n",
              "      <td>...</td>\n",
              "      <td>82</td>\n",
              "      <td>60</td>\n",
              "      <td>39</td>\n",
              "      <td>55</td>\n",
              "      <td>25</td>\n",
              "      <td>14</td>\n",
              "      <td>28</td>\n",
              "      <td>25</td>\n",
              "      <td>14</td>\n",
              "      <td>27</td>\n",
              "    </tr>\n",
              "    <tr>\n",
              "      <th>2</th>\n",
              "      <td>192</td>\n",
              "      <td>138</td>\n",
              "      <td>153</td>\n",
              "      <td>200</td>\n",
              "      <td>145</td>\n",
              "      <td>163</td>\n",
              "      <td>201</td>\n",
              "      <td>142</td>\n",
              "      <td>160</td>\n",
              "      <td>206</td>\n",
              "      <td>...</td>\n",
              "      <td>149</td>\n",
              "      <td>167</td>\n",
              "      <td>129</td>\n",
              "      <td>143</td>\n",
              "      <td>159</td>\n",
              "      <td>124</td>\n",
              "      <td>142</td>\n",
              "      <td>136</td>\n",
              "      <td>104</td>\n",
              "      <td>117</td>\n",
              "    </tr>\n",
              "    <tr>\n",
              "      <th>3</th>\n",
              "      <td>38</td>\n",
              "      <td>19</td>\n",
              "      <td>30</td>\n",
              "      <td>95</td>\n",
              "      <td>59</td>\n",
              "      <td>72</td>\n",
              "      <td>143</td>\n",
              "      <td>103</td>\n",
              "      <td>119</td>\n",
              "      <td>171</td>\n",
              "      <td>...</td>\n",
              "      <td>73</td>\n",
              "      <td>44</td>\n",
              "      <td>26</td>\n",
              "      <td>36</td>\n",
              "      <td>25</td>\n",
              "      <td>12</td>\n",
              "      <td>17</td>\n",
              "      <td>25</td>\n",
              "      <td>12</td>\n",
              "      <td>15</td>\n",
              "    </tr>\n",
              "    <tr>\n",
              "      <th>4</th>\n",
              "      <td>158</td>\n",
              "      <td>113</td>\n",
              "      <td>139</td>\n",
              "      <td>194</td>\n",
              "      <td>144</td>\n",
              "      <td>174</td>\n",
              "      <td>215</td>\n",
              "      <td>162</td>\n",
              "      <td>191</td>\n",
              "      <td>225</td>\n",
              "      <td>...</td>\n",
              "      <td>201</td>\n",
              "      <td>209</td>\n",
              "      <td>166</td>\n",
              "      <td>185</td>\n",
              "      <td>172</td>\n",
              "      <td>135</td>\n",
              "      <td>149</td>\n",
              "      <td>109</td>\n",
              "      <td>78</td>\n",
              "      <td>92</td>\n",
              "    </tr>\n",
              "    <tr>\n",
              "      <th>...</th>\n",
              "      <td>...</td>\n",
              "      <td>...</td>\n",
              "      <td>...</td>\n",
              "      <td>...</td>\n",
              "      <td>...</td>\n",
              "      <td>...</td>\n",
              "      <td>...</td>\n",
              "      <td>...</td>\n",
              "      <td>...</td>\n",
              "      <td>...</td>\n",
              "      <td>...</td>\n",
              "      <td>...</td>\n",
              "      <td>...</td>\n",
              "      <td>...</td>\n",
              "      <td>...</td>\n",
              "      <td>...</td>\n",
              "      <td>...</td>\n",
              "      <td>...</td>\n",
              "      <td>...</td>\n",
              "      <td>...</td>\n",
              "      <td>...</td>\n",
              "    </tr>\n",
              "    <tr>\n",
              "      <th>10010</th>\n",
              "      <td>183</td>\n",
              "      <td>165</td>\n",
              "      <td>181</td>\n",
              "      <td>182</td>\n",
              "      <td>165</td>\n",
              "      <td>180</td>\n",
              "      <td>184</td>\n",
              "      <td>166</td>\n",
              "      <td>182</td>\n",
              "      <td>188</td>\n",
              "      <td>...</td>\n",
              "      <td>181</td>\n",
              "      <td>208</td>\n",
              "      <td>185</td>\n",
              "      <td>187</td>\n",
              "      <td>208</td>\n",
              "      <td>186</td>\n",
              "      <td>186</td>\n",
              "      <td>206</td>\n",
              "      <td>187</td>\n",
              "      <td>189</td>\n",
              "    </tr>\n",
              "    <tr>\n",
              "      <th>10011</th>\n",
              "      <td>2</td>\n",
              "      <td>3</td>\n",
              "      <td>1</td>\n",
              "      <td>38</td>\n",
              "      <td>33</td>\n",
              "      <td>32</td>\n",
              "      <td>121</td>\n",
              "      <td>104</td>\n",
              "      <td>103</td>\n",
              "      <td>132</td>\n",
              "      <td>...</td>\n",
              "      <td>129</td>\n",
              "      <td>96</td>\n",
              "      <td>79</td>\n",
              "      <td>76</td>\n",
              "      <td>24</td>\n",
              "      <td>23</td>\n",
              "      <td>21</td>\n",
              "      <td>3</td>\n",
              "      <td>4</td>\n",
              "      <td>1</td>\n",
              "    </tr>\n",
              "    <tr>\n",
              "      <th>10012</th>\n",
              "      <td>132</td>\n",
              "      <td>118</td>\n",
              "      <td>118</td>\n",
              "      <td>167</td>\n",
              "      <td>149</td>\n",
              "      <td>149</td>\n",
              "      <td>175</td>\n",
              "      <td>156</td>\n",
              "      <td>160</td>\n",
              "      <td>184</td>\n",
              "      <td>...</td>\n",
              "      <td>190</td>\n",
              "      <td>204</td>\n",
              "      <td>181</td>\n",
              "      <td>178</td>\n",
              "      <td>181</td>\n",
              "      <td>159</td>\n",
              "      <td>153</td>\n",
              "      <td>172</td>\n",
              "      <td>151</td>\n",
              "      <td>145</td>\n",
              "    </tr>\n",
              "    <tr>\n",
              "      <th>10013</th>\n",
              "      <td>160</td>\n",
              "      <td>124</td>\n",
              "      <td>146</td>\n",
              "      <td>164</td>\n",
              "      <td>131</td>\n",
              "      <td>152</td>\n",
              "      <td>167</td>\n",
              "      <td>127</td>\n",
              "      <td>146</td>\n",
              "      <td>169</td>\n",
              "      <td>...</td>\n",
              "      <td>165</td>\n",
              "      <td>185</td>\n",
              "      <td>162</td>\n",
              "      <td>167</td>\n",
              "      <td>184</td>\n",
              "      <td>157</td>\n",
              "      <td>166</td>\n",
              "      <td>185</td>\n",
              "      <td>162</td>\n",
              "      <td>172</td>\n",
              "    </tr>\n",
              "    <tr>\n",
              "      <th>10014</th>\n",
              "      <td>175</td>\n",
              "      <td>142</td>\n",
              "      <td>121</td>\n",
              "      <td>181</td>\n",
              "      <td>150</td>\n",
              "      <td>134</td>\n",
              "      <td>181</td>\n",
              "      <td>150</td>\n",
              "      <td>133</td>\n",
              "      <td>178</td>\n",
              "      <td>...</td>\n",
              "      <td>48</td>\n",
              "      <td>159</td>\n",
              "      <td>79</td>\n",
              "      <td>82</td>\n",
              "      <td>174</td>\n",
              "      <td>137</td>\n",
              "      <td>125</td>\n",
              "      <td>175</td>\n",
              "      <td>139</td>\n",
              "      <td>126</td>\n",
              "    </tr>\n",
              "  </tbody>\n",
              "</table>\n",
              "<p>10015 rows × 2352 columns</p>\n",
              "</div>\n",
              "      <button class=\"colab-df-convert\" onclick=\"convertToInteractive('df-cbc50575-a23a-4481-93bc-fcdb7747ae38')\"\n",
              "              title=\"Convert this dataframe to an interactive table.\"\n",
              "              style=\"display:none;\">\n",
              "        \n",
              "  <svg xmlns=\"http://www.w3.org/2000/svg\" height=\"24px\"viewBox=\"0 0 24 24\"\n",
              "       width=\"24px\">\n",
              "    <path d=\"M0 0h24v24H0V0z\" fill=\"none\"/>\n",
              "    <path d=\"M18.56 5.44l.94 2.06.94-2.06 2.06-.94-2.06-.94-.94-2.06-.94 2.06-2.06.94zm-11 1L8.5 8.5l.94-2.06 2.06-.94-2.06-.94L8.5 2.5l-.94 2.06-2.06.94zm10 10l.94 2.06.94-2.06 2.06-.94-2.06-.94-.94-2.06-.94 2.06-2.06.94z\"/><path d=\"M17.41 7.96l-1.37-1.37c-.4-.4-.92-.59-1.43-.59-.52 0-1.04.2-1.43.59L10.3 9.45l-7.72 7.72c-.78.78-.78 2.05 0 2.83L4 21.41c.39.39.9.59 1.41.59.51 0 1.02-.2 1.41-.59l7.78-7.78 2.81-2.81c.8-.78.8-2.07 0-2.86zM5.41 20L4 18.59l7.72-7.72 1.47 1.35L5.41 20z\"/>\n",
              "  </svg>\n",
              "      </button>\n",
              "      \n",
              "  <style>\n",
              "    .colab-df-container {\n",
              "      display:flex;\n",
              "      flex-wrap:wrap;\n",
              "      gap: 12px;\n",
              "    }\n",
              "\n",
              "    .colab-df-convert {\n",
              "      background-color: #E8F0FE;\n",
              "      border: none;\n",
              "      border-radius: 50%;\n",
              "      cursor: pointer;\n",
              "      display: none;\n",
              "      fill: #1967D2;\n",
              "      height: 32px;\n",
              "      padding: 0 0 0 0;\n",
              "      width: 32px;\n",
              "    }\n",
              "\n",
              "    .colab-df-convert:hover {\n",
              "      background-color: #E2EBFA;\n",
              "      box-shadow: 0px 1px 2px rgba(60, 64, 67, 0.3), 0px 1px 3px 1px rgba(60, 64, 67, 0.15);\n",
              "      fill: #174EA6;\n",
              "    }\n",
              "\n",
              "    [theme=dark] .colab-df-convert {\n",
              "      background-color: #3B4455;\n",
              "      fill: #D2E3FC;\n",
              "    }\n",
              "\n",
              "    [theme=dark] .colab-df-convert:hover {\n",
              "      background-color: #434B5C;\n",
              "      box-shadow: 0px 1px 3px 1px rgba(0, 0, 0, 0.15);\n",
              "      filter: drop-shadow(0px 1px 2px rgba(0, 0, 0, 0.3));\n",
              "      fill: #FFFFFF;\n",
              "    }\n",
              "  </style>\n",
              "\n",
              "      <script>\n",
              "        const buttonEl =\n",
              "          document.querySelector('#df-cbc50575-a23a-4481-93bc-fcdb7747ae38 button.colab-df-convert');\n",
              "        buttonEl.style.display =\n",
              "          google.colab.kernel.accessAllowed ? 'block' : 'none';\n",
              "\n",
              "        async function convertToInteractive(key) {\n",
              "          const element = document.querySelector('#df-cbc50575-a23a-4481-93bc-fcdb7747ae38');\n",
              "          const dataTable =\n",
              "            await google.colab.kernel.invokeFunction('convertToInteractive',\n",
              "                                                     [key], {});\n",
              "          if (!dataTable) return;\n",
              "\n",
              "          const docLinkHtml = 'Like what you see? Visit the ' +\n",
              "            '<a target=\"_blank\" href=https://colab.research.google.com/notebooks/data_table.ipynb>data table notebook</a>'\n",
              "            + ' to learn more about interactive tables.';\n",
              "          element.innerHTML = '';\n",
              "          dataTable['output_type'] = 'display_data';\n",
              "          await google.colab.output.renderOutput(dataTable, element);\n",
              "          const docLink = document.createElement('div');\n",
              "          docLink.innerHTML = docLinkHtml;\n",
              "          element.appendChild(docLink);\n",
              "        }\n",
              "      </script>\n",
              "    </div>\n",
              "  </div>\n",
              "  "
            ]
          },
          "metadata": {},
          "execution_count": 43
        }
      ],
      "source": [
        "X"
      ]
    },
    {
      "cell_type": "markdown",
      "metadata": {
        "id": "wTjoIc4vDgFx"
      },
      "source": [
        "### **Oversampling**\n",
        "To overcome class imbalace"
      ]
    },
    {
      "cell_type": "code",
      "execution_count": null,
      "metadata": {
        "id": "LD6rAPPODKDG"
      },
      "outputs": [],
      "source": [
        "oversample = RandomOverSampler()\n",
        "X,y  = oversample.fit_resample(X,y)"
      ]
    },
    {
      "cell_type": "code",
      "source": [
        "print(X)"
      ],
      "metadata": {
        "id": "fo2oY61cdW4k",
        "colab": {
          "base_uri": "https://localhost:8080/"
        },
        "outputId": "80ec8e33-007e-4183-a9f4-f51ebcfb2ea7"
      },
      "execution_count": null,
      "outputs": [
        {
          "output_type": "stream",
          "name": "stdout",
          "text": [
            "       pixel0000  pixel0001  pixel0002  pixel0003  pixel0004  pixel0005  \\\n",
            "0            192        153        193        195        155        192   \n",
            "1             25         14         30         68         48         75   \n",
            "2            192        138        153        200        145        163   \n",
            "3             38         19         30         95         59         72   \n",
            "4            158        113        139        194        144        174   \n",
            "...          ...        ...        ...        ...        ...        ...   \n",
            "46930        100         73         86        105         76         88   \n",
            "46931        151        116        154        157        125        163   \n",
            "46932        122        102        109        135        115        122   \n",
            "46933        217        171        181        208        153        156   \n",
            "46934        122        102        109        135        115        122   \n",
            "\n",
            "       pixel0006  pixel0007  pixel0008  pixel0009  ...  pixel2342  pixel2343  \\\n",
            "0            197        154        185        202  ...        134        173   \n",
            "1            123         93        126        158  ...         82         60   \n",
            "2            201        142        160        206  ...        149        167   \n",
            "3            143        103        119        171  ...         73         44   \n",
            "4            215        162        191        225  ...        201        209   \n",
            "...          ...        ...        ...        ...  ...        ...        ...   \n",
            "46930        106         77         91        110  ...         52         49   \n",
            "46931        160        127        163        161  ...        170        158   \n",
            "46932        138        116        123        143  ...        140        144   \n",
            "46933        211        152        157        209  ...        163        207   \n",
            "46934        138        116        123        143  ...        140        144   \n",
            "\n",
            "       pixel2344  pixel2345  pixel2346  pixel2347  pixel2348  pixel2349  \\\n",
            "0            124        138        183        147        166        185   \n",
            "1             39         55         25         14         28         25   \n",
            "2            129        143        159        124        142        136   \n",
            "3             26         36         25         12         17         25   \n",
            "4            166        185        172        135        149        109   \n",
            "...          ...        ...        ...        ...        ...        ...   \n",
            "46930         27         34         17          5         11         17   \n",
            "46931        116        142        161        122        155        167   \n",
            "46932        126        138        139        120        130        134   \n",
            "46933        161        165        205        159        159        203   \n",
            "46934        126        138        139        120        130        134   \n",
            "\n",
            "       pixel2350  pixel2351  \n",
            "0            154        177  \n",
            "1             14         27  \n",
            "2            104        117  \n",
            "3             12         15  \n",
            "4             78         92  \n",
            "...          ...        ...  \n",
            "46930          5          9  \n",
            "46931        125        159  \n",
            "46932        116        129  \n",
            "46933        159        153  \n",
            "46934        116        129  \n",
            "\n",
            "[46935 rows x 2352 columns]\n"
          ]
        }
      ]
    },
    {
      "cell_type": "code",
      "execution_count": null,
      "metadata": {
        "id": "pweQNSi-Dsxd",
        "colab": {
          "base_uri": "https://localhost:8080/"
        },
        "outputId": "f5c7671d-8119-4f89-9721-ffd75b75a6c4"
      },
      "outputs": [
        {
          "output_type": "stream",
          "name": "stdout",
          "text": [
            "Shape of X : (46935, 28, 28, 3)\n"
          ]
        }
      ],
      "source": [
        "X = np.array(X).reshape(-1,28,28,3)\n",
        "print('Shape of X :',X.shape)"
      ]
    },
    {
      "cell_type": "code",
      "source": [
        "X"
      ],
      "metadata": {
        "id": "bDHOX_o8gfrV",
        "colab": {
          "base_uri": "https://localhost:8080/"
        },
        "outputId": "1f862487-f33a-4834-9697-872c5fbe45e4"
      },
      "execution_count": null,
      "outputs": [
        {
          "output_type": "execute_result",
          "data": {
            "text/plain": [
              "array([[[[192, 153, 193],\n",
              "         [195, 155, 192],\n",
              "         [197, 154, 185],\n",
              "         ...,\n",
              "         [193, 144, 153],\n",
              "         [197, 154, 163],\n",
              "         [194, 152, 160]],\n",
              "\n",
              "        [[197, 162, 202],\n",
              "         [201, 160, 197],\n",
              "         [202, 160, 193],\n",
              "         ...,\n",
              "         [194, 147, 149],\n",
              "         [198, 158, 166],\n",
              "         [192, 153, 167]],\n",
              "\n",
              "        [[197, 155, 193],\n",
              "         [198, 154, 185],\n",
              "         [202, 156, 191],\n",
              "         ...,\n",
              "         [194, 149, 152],\n",
              "         [199, 161, 177],\n",
              "         [194, 156, 175]],\n",
              "\n",
              "        ...,\n",
              "\n",
              "        [[194, 157, 191],\n",
              "         [206, 173, 206],\n",
              "         [206, 165, 192],\n",
              "         ...,\n",
              "         [191, 155, 183],\n",
              "         [193, 159, 187],\n",
              "         [193, 163, 197]],\n",
              "\n",
              "        [[187, 154, 185],\n",
              "         [203, 171, 199],\n",
              "         [202, 161, 183],\n",
              "         ...,\n",
              "         [178, 131, 148],\n",
              "         [187, 152, 174],\n",
              "         [190, 159, 189]],\n",
              "\n",
              "        [[171, 136, 164],\n",
              "         [191, 153, 179],\n",
              "         [196, 155, 176],\n",
              "         ...,\n",
              "         [173, 124, 138],\n",
              "         [183, 147, 166],\n",
              "         [185, 154, 177]]],\n",
              "\n",
              "\n",
              "       [[[ 25,  14,  30],\n",
              "         [ 68,  48,  75],\n",
              "         [123,  93, 126],\n",
              "         ...,\n",
              "         [123,  92,  99],\n",
              "         [ 79,  53,  74],\n",
              "         [ 59,  37,  62]],\n",
              "\n",
              "        [[ 42,  28,  49],\n",
              "         [ 97,  70,  97],\n",
              "         [144, 111, 145],\n",
              "         ...,\n",
              "         [141, 108, 110],\n",
              "         [ 98,  69,  78],\n",
              "         [ 63,  40,  63]],\n",
              "\n",
              "        [[ 67,  47,  69],\n",
              "         [121,  89, 111],\n",
              "         [160, 120, 155],\n",
              "         ...,\n",
              "         [160, 126, 137],\n",
              "         [122,  94, 102],\n",
              "         [ 77,  54,  74]],\n",
              "\n",
              "        ...,\n",
              "\n",
              "        [[ 63,  40,  66],\n",
              "         [ 97,  68,  93],\n",
              "         [141, 108, 125],\n",
              "         ...,\n",
              "         [122,  82,  84],\n",
              "         [ 71,  49,  63],\n",
              "         [ 25,  15,  31]],\n",
              "\n",
              "        [[ 61,  38,  62],\n",
              "         [ 75,  51,  80],\n",
              "         [117,  83, 108],\n",
              "         ...,\n",
              "         [ 91,  58,  64],\n",
              "         [ 38,  21,  34],\n",
              "         [ 22,  12,  26]],\n",
              "\n",
              "        [[ 65,  41,  63],\n",
              "         [ 65,  41,  68],\n",
              "         [ 92,  63,  91],\n",
              "         ...,\n",
              "         [ 60,  39,  55],\n",
              "         [ 25,  14,  28],\n",
              "         [ 25,  14,  27]]],\n",
              "\n",
              "\n",
              "       [[[192, 138, 153],\n",
              "         [200, 145, 163],\n",
              "         [201, 142, 160],\n",
              "         ...,\n",
              "         [181, 131, 145],\n",
              "         [167, 123, 142],\n",
              "         [143, 102, 118]],\n",
              "\n",
              "        [[199, 146, 161],\n",
              "         [201, 145, 166],\n",
              "         [205, 147, 172],\n",
              "         ...,\n",
              "         [190, 139, 157],\n",
              "         [180, 136, 160],\n",
              "         [156, 114, 133]],\n",
              "\n",
              "        [[200, 148, 169],\n",
              "         [206, 150, 170],\n",
              "         [208, 147, 168],\n",
              "         ...,\n",
              "         [198, 148, 171],\n",
              "         [189, 142, 168],\n",
              "         [166, 123, 142]],\n",
              "\n",
              "        ...,\n",
              "\n",
              "        [[200, 141, 165],\n",
              "         [196, 138, 140],\n",
              "         [190, 125, 112],\n",
              "         ...,\n",
              "         [201, 155, 181],\n",
              "         [185, 142, 163],\n",
              "         [165, 129, 142]],\n",
              "\n",
              "        [[196, 137, 154],\n",
              "         [194, 132, 136],\n",
              "         [190, 126, 116],\n",
              "         ...,\n",
              "         [184, 139, 156],\n",
              "         [168, 130, 147],\n",
              "         [150, 116, 131]],\n",
              "\n",
              "        [[192, 133, 143],\n",
              "         [195, 135, 144],\n",
              "         [194, 131, 135],\n",
              "         ...,\n",
              "         [167, 129, 143],\n",
              "         [159, 124, 142],\n",
              "         [136, 104, 117]]],\n",
              "\n",
              "\n",
              "       ...,\n",
              "\n",
              "\n",
              "       [[[122, 102, 109],\n",
              "         [135, 115, 122],\n",
              "         [138, 116, 123],\n",
              "         ...,\n",
              "         [142, 123, 136],\n",
              "         [136, 118, 131],\n",
              "         [125, 108, 120]],\n",
              "\n",
              "        [[130, 108, 115],\n",
              "         [137, 117, 123],\n",
              "         [143, 119, 125],\n",
              "         ...,\n",
              "         [144, 125, 139],\n",
              "         [140, 122, 135],\n",
              "         [132, 115, 129]],\n",
              "\n",
              "        [[135, 112, 120],\n",
              "         [141, 121, 129],\n",
              "         [147, 120, 128],\n",
              "         ...,\n",
              "         [147, 129, 144],\n",
              "         [142, 124, 138],\n",
              "         [135, 117, 131]],\n",
              "\n",
              "        ...,\n",
              "\n",
              "        [[145, 124, 135],\n",
              "         [151, 132, 143],\n",
              "         [156, 136, 146],\n",
              "         ...,\n",
              "         [149, 133, 145],\n",
              "         [144, 127, 139],\n",
              "         [138, 121, 134]],\n",
              "\n",
              "        [[143, 120, 127],\n",
              "         [148, 128, 137],\n",
              "         [153, 131, 140],\n",
              "         ...,\n",
              "         [145, 128, 139],\n",
              "         [139, 121, 130],\n",
              "         [137, 120, 133]],\n",
              "\n",
              "        [[141, 115, 121],\n",
              "         [145, 121, 127],\n",
              "         [149, 123, 128],\n",
              "         ...,\n",
              "         [144, 126, 138],\n",
              "         [139, 120, 130],\n",
              "         [134, 116, 129]]],\n",
              "\n",
              "\n",
              "       [[[217, 171, 181],\n",
              "         [208, 153, 156],\n",
              "         [211, 152, 157],\n",
              "         ...,\n",
              "         [210, 166, 159],\n",
              "         [212, 171, 168],\n",
              "         [209, 167, 166]],\n",
              "\n",
              "        [[214, 166, 172],\n",
              "         [213, 161, 164],\n",
              "         [206, 148, 146],\n",
              "         ...,\n",
              "         [211, 167, 160],\n",
              "         [212, 168, 163],\n",
              "         [208, 165, 159]],\n",
              "\n",
              "        [[218, 168, 167],\n",
              "         [215, 163, 160],\n",
              "         [201, 142, 137],\n",
              "         ...,\n",
              "         [211, 166, 160],\n",
              "         [208, 161, 149],\n",
              "         [208, 161, 151]],\n",
              "\n",
              "        ...,\n",
              "\n",
              "        [[210, 154, 154],\n",
              "         [192, 141, 139],\n",
              "         [202, 150, 151],\n",
              "         ...,\n",
              "         [208, 162, 165],\n",
              "         [206, 162, 160],\n",
              "         [204, 162, 160]],\n",
              "\n",
              "        [[207, 147, 148],\n",
              "         [194, 143, 139],\n",
              "         [199, 143, 137],\n",
              "         ...,\n",
              "         [207, 161, 167],\n",
              "         [205, 164, 166],\n",
              "         [204, 161, 160]],\n",
              "\n",
              "        [[207, 147, 146],\n",
              "         [199, 150, 154],\n",
              "         [207, 157, 155],\n",
              "         ...,\n",
              "         [207, 161, 165],\n",
              "         [205, 159, 159],\n",
              "         [203, 159, 153]]],\n",
              "\n",
              "\n",
              "       [[[122, 102, 109],\n",
              "         [135, 115, 122],\n",
              "         [138, 116, 123],\n",
              "         ...,\n",
              "         [142, 123, 136],\n",
              "         [136, 118, 131],\n",
              "         [125, 108, 120]],\n",
              "\n",
              "        [[130, 108, 115],\n",
              "         [137, 117, 123],\n",
              "         [143, 119, 125],\n",
              "         ...,\n",
              "         [144, 125, 139],\n",
              "         [140, 122, 135],\n",
              "         [132, 115, 129]],\n",
              "\n",
              "        [[135, 112, 120],\n",
              "         [141, 121, 129],\n",
              "         [147, 120, 128],\n",
              "         ...,\n",
              "         [147, 129, 144],\n",
              "         [142, 124, 138],\n",
              "         [135, 117, 131]],\n",
              "\n",
              "        ...,\n",
              "\n",
              "        [[145, 124, 135],\n",
              "         [151, 132, 143],\n",
              "         [156, 136, 146],\n",
              "         ...,\n",
              "         [149, 133, 145],\n",
              "         [144, 127, 139],\n",
              "         [138, 121, 134]],\n",
              "\n",
              "        [[143, 120, 127],\n",
              "         [148, 128, 137],\n",
              "         [153, 131, 140],\n",
              "         ...,\n",
              "         [145, 128, 139],\n",
              "         [139, 121, 130],\n",
              "         [137, 120, 133]],\n",
              "\n",
              "        [[141, 115, 121],\n",
              "         [145, 121, 127],\n",
              "         [149, 123, 128],\n",
              "         ...,\n",
              "         [144, 126, 138],\n",
              "         [139, 120, 130],\n",
              "         [134, 116, 129]]]])"
            ]
          },
          "metadata": {},
          "execution_count": 47
        }
      ]
    },
    {
      "cell_type": "code",
      "execution_count": null,
      "metadata": {
        "id": "nM6Zuk0RDKE2"
      },
      "outputs": [],
      "source": [
        "X = (X-np.mean(X))/np.std(X)"
      ]
    },
    {
      "cell_type": "code",
      "execution_count": null,
      "metadata": {
        "id": "iEt4DSAJgzfR"
      },
      "outputs": [],
      "source": [
        "#var name changed -> 4\n",
        "\n",
        "X_train, X_test, Y_train, Y_test = train_test_split(X, y, test_size=0.20,random_state=1)"
      ]
    },
    {
      "cell_type": "code",
      "execution_count": null,
      "metadata": {
        "id": "qg5NJvr3hbwF"
      },
      "outputs": [],
      "source": [
        "# X_train"
      ]
    },
    {
      "cell_type": "code",
      "execution_count": null,
      "metadata": {
        "id": "1p-5_MBXh4wq",
        "colab": {
          "base_uri": "https://localhost:8080/"
        },
        "outputId": "08c1a9fd-e20e-46ca-82e7-e6989b0c8c75"
      },
      "outputs": [
        {
          "output_type": "execute_result",
          "data": {
            "text/plain": [
              "array([[[[ 0.58140711, -0.31125   ,  0.02651215],\n",
              "         [ 0.84679166,  0.02651215,  0.48490364],\n",
              "         [ 0.87091753,  0.00238628,  0.50902951],\n",
              "         ...,\n",
              "         [ 0.84679166, -0.14236892,  0.14714149],\n",
              "         [ 0.79853992, -0.09411719,  0.2195191 ],\n",
              "         [ 0.75028819, -0.16649479,  0.2195191 ]],\n",
              "\n",
              "        [[ 0.62965885, -0.3836276 ,  0.00238628],\n",
              "         [ 0.82266579, -0.09411719,  0.41252604],\n",
              "         [ 0.87091753, -0.06999132,  0.43665191],\n",
              "         ...,\n",
              "         [ 0.8950434 , -0.19062066,  0.12301562],\n",
              "         [ 0.84679166, -0.14236892,  0.26777083],\n",
              "         [ 0.77441406, -0.16649479,  0.26777083]],\n",
              "\n",
              "        [[ 0.75028819, -0.33537586,  0.12301562],\n",
              "         [ 0.79853992, -0.21474653,  0.3642743 ],\n",
              "         [ 0.87091753, -0.06999132,  0.3642743 ],\n",
              "         ...,\n",
              "         [ 0.87091753, -0.16649479,  0.12301562],\n",
              "         [ 0.8950434 , -0.09411719,  0.26777083],\n",
              "         [ 0.79853992, -0.14236892,  0.26777083]],\n",
              "\n",
              "        ...,\n",
              "\n",
              "        [[-0.14236892, -0.96264843, -0.86614496],\n",
              "         [ 0.24364496, -0.60076041, -0.4560052 ],\n",
              "         [ 0.41252604, -0.3836276 , -0.04586545],\n",
              "         ...,\n",
              "         [ 0.62965885, -0.16649479,  0.07476389],\n",
              "         [ 0.41252604, -0.43187934, -0.3836276 ],\n",
              "         [ 0.19539323, -0.64901215, -0.76964149]],\n",
              "\n",
              "        [[-0.72138975, -1.44516579, -1.27628471],\n",
              "         [ 0.07476389, -0.81789322, -0.60076041],\n",
              "         [ 0.24364496, -0.60076041, -0.3836276 ],\n",
              "         ...,\n",
              "         [ 0.48490364, -0.31125   , -0.16649479],\n",
              "         [ 0.24364496, -0.60076041, -0.67313801],\n",
              "         [ 0.12301562, -0.67313801, -0.81789322]],\n",
              "\n",
              "        [[-1.58992099, -2.24131942, -2.02418661],\n",
              "         [-0.35950173, -1.15565537, -1.0591519 ],\n",
              "         [ 0.14714149, -0.72138975, -0.57663454],\n",
              "         ...,\n",
              "         [ 0.34014843, -0.48013107, -0.35950173],\n",
              "         [ 0.12301562, -0.69726388, -0.67313801],\n",
              "         [ 0.00238628, -0.76964149, -0.81789322]]],\n",
              "\n",
              "\n",
              "       [[[ 0.17126736, -0.40775347, -0.16649479],\n",
              "         [ 0.46077777,  0.07476389,  0.38840017],\n",
              "         [ 0.50902951,  0.12301562,  0.38840017],\n",
              "         ...,\n",
              "         [ 0.02651215, -0.69726388, -0.62488628],\n",
              "         [ 0.09888976, -0.50425694, -0.28712413],\n",
              "         [-0.02173958, -0.64901215, -0.48013107]],\n",
              "\n",
              "        [[ 0.2195191 , -0.40775347, -0.23887239],\n",
              "         [ 0.41252604, -0.09411719,  0.09888976],\n",
              "         [ 0.60553298,  0.26777083,  0.55728125],\n",
              "         ...,\n",
              "         [ 0.07476389, -0.64901215, -0.55250868],\n",
              "         [ 0.09888976, -0.52838281, -0.3836276 ],\n",
              "         [ 0.02651215, -0.62488628, -0.48013107]],\n",
              "\n",
              "        [[ 0.24364496, -0.40775347, -0.31125   ],\n",
              "         [ 0.31602257, -0.33537586, -0.23887239],\n",
              "         [ 0.43665191, -0.11824305,  0.00238628],\n",
              "         ...,\n",
              "         [ 0.19539323, -0.48013107, -0.35950173],\n",
              "         [ 0.14714149, -0.48013107, -0.33537586],\n",
              "         [ 0.07476389, -0.57663454, -0.35950173]],\n",
              "\n",
              "        ...,\n",
              "\n",
              "        [[ 0.14714149, -0.55250868, -0.4560052 ],\n",
              "         [ 0.2195191 , -0.48013107, -0.26299826],\n",
              "         [ 0.19539323, -0.52838281, -0.28712413],\n",
              "         ...,\n",
              "         [ 0.00238628, -0.79376735, -0.84201909],\n",
              "         [ 0.07476389, -0.67313801, -0.69726388],\n",
              "         [-0.21474653, -0.91439669, -0.91439669]],\n",
              "\n",
              "        [[ 0.17126736, -0.4560052 , -0.16649479],\n",
              "         [ 0.19539323, -0.43187934, -0.11824305],\n",
              "         [ 0.17126736, -0.55250868, -0.31125   ],\n",
              "         ...,\n",
              "         [ 0.05063802, -0.72138975, -0.79376735],\n",
              "         [ 0.05063802, -0.67313801, -0.67313801],\n",
              "         [ 0.00238628, -0.69726388, -0.64901215]],\n",
              "\n",
              "        [[ 0.14714149, -0.4560052 , -0.14236892],\n",
              "         [ 0.14714149, -0.50425694, -0.19062066],\n",
              "         [ 0.24364496, -0.43187934, -0.16649479],\n",
              "         ...,\n",
              "         [-0.16649479, -0.86614496, -0.86614496],\n",
              "         [-0.40775347, -1.08327777, -1.03502603],\n",
              "         [-0.14236892, -0.86614496, -0.84201909]]],\n",
              "\n",
              "\n",
              "       [[[ 1.49819009, -0.33537586, -0.3836276 ],\n",
              "         [ 1.54644183, -0.26299826, -0.28712413],\n",
              "         [ 1.61881943, -0.16649479, -0.21474653],\n",
              "         ...,\n",
              "         [ 1.44993836, -0.14236892, -0.28712413],\n",
              "         [ 1.40168662, -0.31125   , -0.3836276 ],\n",
              "         [ 1.30518315, -0.48013107, -0.43187934]],\n",
              "\n",
              "        [[ 1.47406422, -0.31125   , -0.3836276 ],\n",
              "         [ 1.52231596, -0.31125   , -0.28712413],\n",
              "         [ 1.54644183, -0.33537586, -0.33537586],\n",
              "         ...,\n",
              "         [ 1.47406422, -0.11824305, -0.28712413],\n",
              "         [ 1.37756075, -0.33537586, -0.43187934],\n",
              "         [ 1.25693141, -0.62488628, -0.60076041]],\n",
              "\n",
              "        [[ 1.47406422, -0.31125   , -0.3836276 ],\n",
              "         [ 1.49819009, -0.33537586, -0.28712413],\n",
              "         [ 1.54644183, -0.33537586, -0.33537586],\n",
              "         ...,\n",
              "         [ 1.47406422, -0.23887239, -0.40775347],\n",
              "         [ 1.35343488, -0.4560052 , -0.52838281],\n",
              "         [ 1.30518315, -0.52838281, -0.55250868]],\n",
              "\n",
              "        ...,\n",
              "\n",
              "        [[ 1.08805034, -0.62488628, -0.81789322],\n",
              "         [ 1.20867968, -0.55250868, -0.74551562],\n",
              "         [ 1.25693141, -0.57663454, -0.74551562],\n",
              "         ...,\n",
              "         [ 1.23280555, -0.3836276 , -0.52838281],\n",
              "         [ 1.08805034, -0.67313801, -0.76964149],\n",
              "         [ 1.13630207, -0.40775347, -0.69726388]],\n",
              "\n",
              "        [[ 1.16042794, -0.48013107, -0.69726388],\n",
              "         [ 1.18455381, -0.50425694, -0.76964149],\n",
              "         [ 1.20867968, -0.60076041, -0.81789322],\n",
              "         ...,\n",
              "         [ 1.23280555, -0.35950173, -0.60076041],\n",
              "         [ 1.11217621, -0.50425694, -0.69726388],\n",
              "         [ 1.11217621, -0.3836276 , -0.69726388]],\n",
              "\n",
              "        [[ 1.23280555, -0.33537586, -0.60076041],\n",
              "         [ 1.25693141, -0.3836276 , -0.67313801],\n",
              "         [ 1.20867968, -0.57663454, -0.84201909],\n",
              "         ...,\n",
              "         [ 1.16042794, -0.48013107, -0.67313801],\n",
              "         [ 1.13630207, -0.43187934, -0.67313801],\n",
              "         [ 1.0397986 , -0.40775347, -0.74551562]]],\n",
              "\n",
              "\n",
              "       ...,\n",
              "\n",
              "\n",
              "       [[[ 0.94329513,  0.41252604,  0.58140711],\n",
              "         [ 0.77441406,  0.07476389,  0.26777083],\n",
              "         [ 0.82266579,  0.07476389,  0.2195191 ],\n",
              "         ...,\n",
              "         [ 0.62965885, -0.14236892,  0.00238628],\n",
              "         [-0.35950173, -1.1315295 , -0.93852256],\n",
              "         [ 0.2918967 , -0.43187934, -0.31125   ]],\n",
              "\n",
              "        [[ 0.8950434 ,  0.3642743 ,  0.48490364],\n",
              "         [ 0.8950434 ,  0.26777083,  0.41252604],\n",
              "         [ 0.967421  ,  0.26777083,  0.38840017],\n",
              "         ...,\n",
              "         [ 0.67791058,  0.00238628,  0.09888976],\n",
              "         [ 0.48490364, -0.19062066, -0.04586545],\n",
              "         [ 0.60553298, -0.14236892,  0.02651215]],\n",
              "\n",
              "        [[ 0.87091753,  0.26777083,  0.3642743 ],\n",
              "         [ 1.0397986 ,  0.48490364,  0.50902951],\n",
              "         [ 1.11217621,  0.55728125,  0.60553298],\n",
              "         ...,\n",
              "         [ 0.94329513,  0.31602257,  0.3642743 ],\n",
              "         [ 0.82266579,  0.17126736,  0.24364496],\n",
              "         [ 0.65378472,  0.00238628,  0.17126736]],\n",
              "\n",
              "        ...,\n",
              "\n",
              "        [[ 0.46077777, -0.3836276 , -0.14236892],\n",
              "         [ 0.67791058,  0.00238628,  0.31602257],\n",
              "         [ 0.8950434 ,  0.38840017,  0.62965885],\n",
              "         ...,\n",
              "         [ 0.41252604, -0.43187934, -0.26299826],\n",
              "         [ 0.2918967 , -0.55250868, -0.40775347],\n",
              "         [ 0.02651215, -0.9867743 , -0.81789322]],\n",
              "\n",
              "        [[ 0.55728125, -0.16649479,  0.14714149],\n",
              "         [ 0.53315538, -0.19062066,  0.12301562],\n",
              "         [ 0.60553298, -0.04586545,  0.14714149],\n",
              "         ...,\n",
              "         [ 0.34014843, -0.48013107, -0.26299826],\n",
              "         [ 0.07476389, -0.89027083, -0.74551562],\n",
              "         [-0.02173958, -0.9867743 , -0.84201909]],\n",
              "\n",
              "        [[ 0.50902951, -0.16649479,  0.19539323],\n",
              "         [ 0.53315538, -0.16649479,  0.12301562],\n",
              "         [ 0.58140711, -0.09411719,  0.09888976],\n",
              "         ...,\n",
              "         [ 0.17126736, -0.79376735, -0.64901215],\n",
              "         [ 0.05063802, -0.96264843, -0.81789322],\n",
              "         [ 0.00238628, -0.84201909, -0.67313801]]],\n",
              "\n",
              "\n",
              "       [[[ 0.87091753, -0.11824305,  0.19539323],\n",
              "         [ 0.91916926, -0.06999132,  0.53315538],\n",
              "         [ 0.91916926, -0.11824305,  0.62965885],\n",
              "         ...,\n",
              "         [ 1.08805034,  0.2918967 ,  1.08805034],\n",
              "         [ 1.11217621,  0.38840017,  1.25693141],\n",
              "         [ 1.0397986 ,  0.24364496,  0.77441406]],\n",
              "\n",
              "        [[ 0.91916926, -0.11824305,  0.24364496],\n",
              "         [ 0.99154687, -0.06999132,  0.60553298],\n",
              "         [ 0.87091753, -0.23887239,  0.43665191],\n",
              "         ...,\n",
              "         [ 1.13630207,  0.46077777,  1.23280555],\n",
              "         [ 1.08805034,  0.31602257,  1.0397986 ],\n",
              "         [ 1.0397986 ,  0.19539323,  0.67791058]],\n",
              "\n",
              "        [[ 0.91916926, -0.19062066,  0.46077777],\n",
              "         [ 0.967421  , -0.11824305,  0.70203645],\n",
              "         [ 0.967421  , -0.02173958,  0.62965885],\n",
              "         ...,\n",
              "         [ 1.13630207,  0.53315538,  1.32930902],\n",
              "         [ 1.11217621,  0.41252604,  1.08805034],\n",
              "         [ 1.01567273,  0.17126736,  0.58140711]],\n",
              "\n",
              "        ...,\n",
              "\n",
              "        [[ 0.84679166,  0.09888976,  0.50902951],\n",
              "         [ 0.87091753,  0.09888976,  0.62965885],\n",
              "         [ 0.84679166,  0.02651215,  0.38840017],\n",
              "         ...,\n",
              "         [ 0.87091753, -0.14236892, -0.21474653],\n",
              "         [ 0.99154687,  0.14714149,  0.31602257],\n",
              "         [ 1.01567273,  0.26777083,  0.79853992]],\n",
              "\n",
              "        [[ 0.82266579,  0.05063802,  0.46077777],\n",
              "         [ 0.87091753,  0.07476389,  0.50902951],\n",
              "         [ 0.8950434 ,  0.19539323,  0.75028819],\n",
              "         ...,\n",
              "         [ 0.967421  ,  0.14714149,  0.26777083],\n",
              "         [ 0.91916926,  0.00238628,  0.00238628],\n",
              "         [ 0.94329513,  0.12301562,  0.41252604]],\n",
              "\n",
              "        [[ 0.84679166,  0.09888976,  0.48490364],\n",
              "         [ 0.87091753,  0.12301562,  0.55728125],\n",
              "         [ 0.84679166,  0.02651215,  0.50902951],\n",
              "         ...,\n",
              "         [ 0.99154687,  0.19539323,  0.58140711],\n",
              "         [ 0.94329513,  0.05063802,  0.14714149],\n",
              "         [ 0.91916926,  0.02651215,  0.24364496]]],\n",
              "\n",
              "\n",
              "       [[[ 0.55728125, -0.16649479,  0.2195191 ],\n",
              "         [ 0.50902951, -0.35950173,  0.02651215],\n",
              "         [ 0.14714149, -1.20390711, -0.69726388],\n",
              "         ...,\n",
              "         [-0.19062066, -1.03502603, -0.72138975],\n",
              "         [-0.40775347, -1.32453645, -1.17978124],\n",
              "         [-0.76964149, -1.83117967, -1.75880207]],\n",
              "\n",
              "        [[ 0.53315538, -0.33537586,  0.12301562],\n",
              "         [ 0.50902951, -0.4560052 , -0.02173958],\n",
              "         [ 0.26777083, -0.91439669, -0.40775347],\n",
              "         ...,\n",
              "         [-0.11824305, -0.93852256, -0.72138975],\n",
              "         [-0.04586545, -0.74551562, -0.60076041],\n",
              "         [-0.55250868, -1.46929165, -1.37278818]],\n",
              "\n",
              "        [[ 0.41252604, -0.52838281, -0.04586545],\n",
              "         [ 0.55728125, -0.33537586,  0.12301562],\n",
              "         [ 0.58140711, -0.31125   ,  0.2195191 ],\n",
              "         ...,\n",
              "         [-0.04586545, -0.86614496, -0.55250868],\n",
              "         [-0.14236892, -0.9867743 , -0.72138975],\n",
              "         [-0.28712413, -1.0591519 , -0.86614496]],\n",
              "\n",
              "        ...,\n",
              "\n",
              "        [[ 0.2918967 , -0.50425694, -0.16649479],\n",
              "         [ 0.43665191, -0.3836276 ,  0.02651215],\n",
              "         [ 0.58140711, -0.19062066,  0.07476389],\n",
              "         ...,\n",
              "         [ 0.07476389, -0.84201909, -0.67313801],\n",
              "         [ 0.07476389, -0.81789322, -0.67313801],\n",
              "         [-0.06999132, -0.93852256, -0.81789322]],\n",
              "\n",
              "        [[ 0.05063802, -0.84201909, -0.43187934],\n",
              "         [ 0.41252604, -0.26299826,  0.14714149],\n",
              "         [ 0.46077777, -0.3836276 ,  0.09888976],\n",
              "         ...,\n",
              "         [ 0.07476389, -0.86614496, -0.69726388],\n",
              "         [-0.19062066, -1.30041058, -1.08327777],\n",
              "         [ 0.00238628, -0.84201909, -0.69726388]],\n",
              "\n",
              "        [[-0.02173958, -0.96264843, -0.57663454],\n",
              "         [ 0.46077777, -0.26299826,  0.12301562],\n",
              "         [ 0.3642743 , -0.48013107,  0.02651215],\n",
              "         ...,\n",
              "         [ 0.02651215, -0.86614496, -0.74551562],\n",
              "         [-0.21474653, -1.20390711, -1.03502603],\n",
              "         [-0.28712413, -1.20390711, -0.9867743 ]]]])"
            ]
          },
          "metadata": {},
          "execution_count": 51
        }
      ],
      "source": [
        "X_test"
      ]
    },
    {
      "cell_type": "code",
      "execution_count": null,
      "metadata": {
        "id": "jXzVsP4Sh9OE",
        "colab": {
          "base_uri": "https://localhost:8080/"
        },
        "outputId": "2584ce22-8b21-4f22-f18d-e6a18418fda9"
      },
      "outputs": [
        {
          "output_type": "execute_result",
          "data": {
            "text/plain": [
              "18033    1\n",
              "38412    5\n",
              "26590    2\n",
              "6910     4\n",
              "37704    5\n",
              "        ..\n",
              "43723    6\n",
              "32511    3\n",
              "5192     4\n",
              "12172    0\n",
              "33003    3\n",
              "Name: label, Length: 37548, dtype: int64"
            ]
          },
          "metadata": {},
          "execution_count": 52
        }
      ],
      "source": [
        "Y_train"
      ]
    },
    {
      "cell_type": "code",
      "execution_count": null,
      "metadata": {
        "id": "IiVO0nn4iA0S",
        "colab": {
          "base_uri": "https://localhost:8080/"
        },
        "outputId": "ca5128cf-a0f8-449f-bc03-d5571cada47b"
      },
      "outputs": [
        {
          "output_type": "execute_result",
          "data": {
            "text/plain": [
              "38662    5\n",
              "18596    1\n",
              "3768     4\n",
              "11499    0\n",
              "37161    5\n",
              "Name: label, dtype: int64"
            ]
          },
          "metadata": {},
          "execution_count": 53
        }
      ],
      "source": [
        "Y_test.head()"
      ]
    },
    {
      "cell_type": "code",
      "execution_count": null,
      "metadata": {
        "id": "5GpJkam3u4iw",
        "colab": {
          "base_uri": "https://localhost:8080/"
        },
        "outputId": "b10fe720-1c47-42cd-c54a-5f8c0ef146be"
      },
      "outputs": [
        {
          "output_type": "stream",
          "name": "stdout",
          "text": [
            "Model: \"sequential\"\n",
            "_________________________________________________________________\n",
            " Layer (type)                Output Shape              Param #   \n",
            "=================================================================\n",
            " conv2d (Conv2D)             (None, 28, 28, 16)        448       \n",
            "                                                                 \n",
            " conv2d_1 (Conv2D)           (None, 26, 26, 32)        4640      \n",
            "                                                                 \n",
            " max_pooling2d (MaxPooling2D  (None, 13, 13, 32)       0         \n",
            " )                                                               \n",
            "                                                                 \n",
            " conv2d_2 (Conv2D)           (None, 13, 13, 32)        9248      \n",
            "                                                                 \n",
            " conv2d_3 (Conv2D)           (None, 11, 11, 64)        18496     \n",
            "                                                                 \n",
            " max_pooling2d_1 (MaxPooling  (None, 6, 6, 64)         0         \n",
            " 2D)                                                             \n",
            "                                                                 \n",
            " flatten (Flatten)           (None, 2304)              0         \n",
            "                                                                 \n",
            " dense (Dense)               (None, 64)                147520    \n",
            "                                                                 \n",
            " dense_1 (Dense)             (None, 32)                2080      \n",
            "                                                                 \n",
            " dense_2 (Dense)             (None, 7)                 231       \n",
            "                                                                 \n",
            "=================================================================\n",
            "Total params: 182,663\n",
            "Trainable params: 182,663\n",
            "Non-trainable params: 0\n",
            "_________________________________________________________________\n"
          ]
        }
      ],
      "source": [
        "input_shape = (28,28,3)\n",
        "num_classes = 7\n",
        "\n",
        "model = Sequential()\n",
        "model.add(Conv2D(16, kernel_size=(3, 3),activation='relu',padding = 'Same',input_shape=input_shape))\n",
        "model.add(Conv2D(32,kernel_size=(3, 3), activation='relu'))\n",
        "model.add(MaxPool2D(pool_size = (2, 2)))\n",
        "#model.add(Dropout(0.25))\n",
        "\n",
        "model.add(Conv2D(32, kernel_size = (3, 3), activation='relu',padding = 'Same'))\n",
        "model.add(Conv2D(64, kernel_size = (3, 3), activation='relu'))\n",
        "model.add(MaxPool2D(pool_size=(2, 2), padding = 'same'))\n",
        "#model.add(Dropout(0.40))\n",
        "\n",
        "model.add(Flatten())\n",
        "\n",
        "model.add(Dense(64, activation='relu'))\n",
        "model.add(Dense(32, activation='relu'))\n",
        "#model.add(Dropout(0.5))\n",
        "model.add(Dense(num_classes, activation='softmax'))\n",
        "model.summary()\n"
      ]
    },
    {
      "cell_type": "code",
      "source": [
        "optimizer = Adam(lr=0.001, beta_1=0.9, beta_2=0.999, epsilon=None, decay=0.0, amsgrad=False)"
      ],
      "metadata": {
        "id": "ED78zJb6452I",
        "colab": {
          "base_uri": "https://localhost:8080/"
        },
        "outputId": "fe9b6392-c579-423b-d0e3-5f14d863e34e"
      },
      "execution_count": null,
      "outputs": [
        {
          "output_type": "stream",
          "name": "stderr",
          "text": [
            "/usr/local/lib/python3.7/dist-packages/keras/optimizer_v2/adam.py:105: UserWarning: The `lr` argument is deprecated, use `learning_rate` instead.\n",
            "  super(Adam, self).__init__(name, **kwargs)\n"
          ]
        }
      ]
    },
    {
      "cell_type": "code",
      "source": [
        "learning_rate_reduction = ReduceLROnPlateau(monitor = 'val_accuracy',\n",
        "                                            patience = 3,\n",
        "                                            verbose = 1,\n",
        "                                            factor = 0.5,\n",
        "                                            min_lr = 0.00001)"
      ],
      "metadata": {
        "id": "lVLMWOI44-0p"
      },
      "execution_count": null,
      "outputs": []
    },
    {
      "cell_type": "code",
      "execution_count": null,
      "metadata": {
        "id": "729sTDsyI7Xa"
      },
      "outputs": [],
      "source": [
        "callback = tf.keras.callbacks.ModelCheckpoint(filepath='/content/drive/MyDrive/Model_Minor/model.h5',\n",
        "                                                  monitor='val_acc', mode='max',\n",
        "                                                 verbose=1)"
      ]
    },
    {
      "cell_type": "code",
      "execution_count": null,
      "metadata": {
        "id": "dbu0AKCUKdyj",
        "colab": {
          "base_uri": "https://localhost:8080/"
        },
        "outputId": "936c9cc9-036a-40f6-a14b-31a1ed57a82c"
      },
      "outputs": [
        {
          "output_type": "stream",
          "name": "stdout",
          "text": [
            "Epoch 1/30\n",
            "235/235 [==============================] - 16s 19ms/step - loss: 1.2326 - accuracy: 0.5213 - val_loss: 0.8951 - val_accuracy: 0.6602 - lr: 0.0010\n",
            "Epoch 2/30\n",
            "235/235 [==============================] - 4s 16ms/step - loss: 0.7216 - accuracy: 0.7337 - val_loss: 0.5479 - val_accuracy: 0.7989 - lr: 0.0010\n",
            "Epoch 3/30\n",
            "235/235 [==============================] - 4s 17ms/step - loss: 0.4550 - accuracy: 0.8343 - val_loss: 0.3904 - val_accuracy: 0.8554 - lr: 0.0010\n",
            "Epoch 4/30\n",
            "235/235 [==============================] - 4s 17ms/step - loss: 0.2994 - accuracy: 0.8918 - val_loss: 0.3223 - val_accuracy: 0.8860 - lr: 0.0010\n",
            "Epoch 5/30\n",
            "235/235 [==============================] - 4s 16ms/step - loss: 0.2266 - accuracy: 0.9189 - val_loss: 0.2413 - val_accuracy: 0.9145 - lr: 0.0010\n",
            "Epoch 6/30\n",
            "235/235 [==============================] - 4s 16ms/step - loss: 0.1750 - accuracy: 0.9394 - val_loss: 0.2312 - val_accuracy: 0.9224 - lr: 0.0010\n",
            "Epoch 7/30\n",
            "235/235 [==============================] - 4s 16ms/step - loss: 0.1456 - accuracy: 0.9479 - val_loss: 0.1655 - val_accuracy: 0.9454 - lr: 0.0010\n",
            "Epoch 8/30\n",
            "235/235 [==============================] - 4s 16ms/step - loss: 0.1268 - accuracy: 0.9554 - val_loss: 0.1953 - val_accuracy: 0.9397 - lr: 0.0010\n",
            "Epoch 9/30\n",
            "235/235 [==============================] - 4s 16ms/step - loss: 0.0909 - accuracy: 0.9670 - val_loss: 0.1610 - val_accuracy: 0.9509 - lr: 0.0010\n",
            "Epoch 10/30\n",
            "235/235 [==============================] - 4s 17ms/step - loss: 0.0788 - accuracy: 0.9724 - val_loss: 0.1553 - val_accuracy: 0.9566 - lr: 0.0010\n",
            "Epoch 11/30\n",
            "235/235 [==============================] - 4s 16ms/step - loss: 0.0718 - accuracy: 0.9742 - val_loss: 0.2387 - val_accuracy: 0.9433 - lr: 0.0010\n",
            "Epoch 12/30\n",
            "235/235 [==============================] - 4s 16ms/step - loss: 0.0655 - accuracy: 0.9760 - val_loss: 0.1622 - val_accuracy: 0.9559 - lr: 0.0010\n",
            "Epoch 13/30\n",
            "235/235 [==============================] - 4s 16ms/step - loss: 0.0470 - accuracy: 0.9831 - val_loss: 0.1395 - val_accuracy: 0.9650 - lr: 0.0010\n",
            "Epoch 14/30\n",
            "235/235 [==============================] - 4s 17ms/step - loss: 0.0535 - accuracy: 0.9820 - val_loss: 0.1834 - val_accuracy: 0.9513 - lr: 0.0010\n",
            "Epoch 15/30\n",
            "235/235 [==============================] - 4s 17ms/step - loss: 0.0502 - accuracy: 0.9827 - val_loss: 0.1876 - val_accuracy: 0.9569 - lr: 0.0010\n",
            "Epoch 16/30\n",
            "235/235 [==============================] - ETA: 0s - loss: 0.0533 - accuracy: 0.9817\n",
            "Epoch 16: ReduceLROnPlateau reducing learning rate to 0.0005000000237487257.\n",
            "235/235 [==============================] - 4s 17ms/step - loss: 0.0533 - accuracy: 0.9817 - val_loss: 0.1510 - val_accuracy: 0.9614 - lr: 0.0010\n",
            "Epoch 17/30\n",
            "235/235 [==============================] - 4s 16ms/step - loss: 0.0108 - accuracy: 0.9974 - val_loss: 0.1243 - val_accuracy: 0.9742 - lr: 5.0000e-04\n",
            "Epoch 18/30\n",
            "235/235 [==============================] - 4s 15ms/step - loss: 0.0035 - accuracy: 0.9994 - val_loss: 0.1377 - val_accuracy: 0.9747 - lr: 5.0000e-04\n",
            "Epoch 19/30\n",
            "235/235 [==============================] - 4s 16ms/step - loss: 0.0017 - accuracy: 0.9999 - val_loss: 0.1330 - val_accuracy: 0.9756 - lr: 5.0000e-04\n",
            "Epoch 20/30\n",
            "235/235 [==============================] - 4s 16ms/step - loss: 0.0010 - accuracy: 1.0000 - val_loss: 0.1481 - val_accuracy: 0.9740 - lr: 5.0000e-04\n",
            "Epoch 21/30\n",
            "235/235 [==============================] - 4s 15ms/step - loss: 7.2727e-04 - accuracy: 1.0000 - val_loss: 0.1523 - val_accuracy: 0.9743 - lr: 5.0000e-04\n",
            "Epoch 22/30\n",
            "233/235 [============================>.] - ETA: 0s - loss: 5.4828e-04 - accuracy: 1.0000\n",
            "Epoch 22: ReduceLROnPlateau reducing learning rate to 0.0002500000118743628.\n",
            "235/235 [==============================] - 4s 15ms/step - loss: 5.4816e-04 - accuracy: 1.0000 - val_loss: 0.1547 - val_accuracy: 0.9746 - lr: 5.0000e-04\n",
            "Epoch 23/30\n",
            "235/235 [==============================] - 4s 16ms/step - loss: 4.1751e-04 - accuracy: 1.0000 - val_loss: 0.1585 - val_accuracy: 0.9747 - lr: 2.5000e-04\n",
            "Epoch 24/30\n",
            "235/235 [==============================] - 4s 17ms/step - loss: 3.6802e-04 - accuracy: 1.0000 - val_loss: 0.1583 - val_accuracy: 0.9756 - lr: 2.5000e-04\n",
            "Epoch 25/30\n",
            "233/235 [============================>.] - ETA: 0s - loss: 3.3007e-04 - accuracy: 1.0000\n",
            "Epoch 25: ReduceLROnPlateau reducing learning rate to 0.0001250000059371814.\n",
            "235/235 [==============================] - 4s 17ms/step - loss: 3.2940e-04 - accuracy: 1.0000 - val_loss: 0.1606 - val_accuracy: 0.9754 - lr: 2.5000e-04\n",
            "Epoch 26/30\n",
            "235/235 [==============================] - 4s 17ms/step - loss: 2.9409e-04 - accuracy: 1.0000 - val_loss: 0.1619 - val_accuracy: 0.9752 - lr: 1.2500e-04\n",
            "Epoch 27/30\n",
            "235/235 [==============================] - 4s 17ms/step - loss: 2.7550e-04 - accuracy: 1.0000 - val_loss: 0.1625 - val_accuracy: 0.9752 - lr: 1.2500e-04\n",
            "Epoch 28/30\n",
            "233/235 [============================>.] - ETA: 0s - loss: 2.5878e-04 - accuracy: 1.0000\n",
            "Epoch 28: ReduceLROnPlateau reducing learning rate to 6.25000029685907e-05.\n",
            "235/235 [==============================] - 4s 17ms/step - loss: 2.5891e-04 - accuracy: 1.0000 - val_loss: 0.1614 - val_accuracy: 0.9754 - lr: 1.2500e-04\n",
            "Epoch 29/30\n",
            "235/235 [==============================] - 4s 17ms/step - loss: 2.4228e-04 - accuracy: 1.0000 - val_loss: 0.1660 - val_accuracy: 0.9750 - lr: 6.2500e-05\n",
            "Epoch 30/30\n",
            "235/235 [==============================] - 4s 17ms/step - loss: 2.3296e-04 - accuracy: 1.0000 - val_loss: 0.1643 - val_accuracy: 0.9755 - lr: 6.2500e-05\n"
          ]
        }
      ],
      "source": [
        "model.compile(loss = 'sparse_categorical_crossentropy',\n",
        "             optimizer = 'adam',\n",
        "              metrics = ['accuracy'])\n",
        "history = model.fit(X_train,\n",
        "                    Y_train,\n",
        "                    validation_split=0.2,\n",
        "                    batch_size = 128,\n",
        "                    epochs = 30,\n",
        "                    callbacks=[learning_rate_reduction])"
      ]
    },
    {
      "cell_type": "code",
      "source": [
        "loss, accuracy = model.evaluate(X_test, Y_test, verbose=0)\n",
        "print(\"Validation: Accuracy = %f  ;  Loss_v = %f\" % (accuracy*100, loss*100))"
      ],
      "metadata": {
        "id": "E_HzI0PRhMLb",
        "colab": {
          "base_uri": "https://localhost:8080/"
        },
        "outputId": "c70cff05-f5fa-4c78-846d-86062ecf6d9c"
      },
      "execution_count": null,
      "outputs": [
        {
          "output_type": "stream",
          "name": "stdout",
          "text": [
            "Validation: Accuracy = 97.475231  ;  Loss_v = 17.032418\n"
          ]
        }
      ]
    },
    {
      "cell_type": "code",
      "execution_count": null,
      "metadata": {
        "id": "__raJeKyK93u"
      },
      "outputs": [],
      "source": [
        "predictions=model.predict(X_test) \n",
        "y_pred=np.argmax(predictions,axis=1)"
      ]
    },
    {
      "cell_type": "code",
      "execution_count": null,
      "metadata": {
        "id": "zGXFqC60S73L",
        "colab": {
          "base_uri": "https://localhost:8080/"
        },
        "outputId": "710b23c0-a031-452b-df8e-04427cd04420"
      },
      "outputs": [
        {
          "output_type": "stream",
          "name": "stdout",
          "text": [
            "              precision    recall  f1-score   support\n",
            "\n",
            "       akiec       1.00      1.00      1.00      1359\n",
            "         bcc       0.98      1.00      0.99      1318\n",
            "         bkl       0.94      0.98      0.96      1262\n",
            "          df       1.00      1.00      1.00      1351\n",
            "         mel       0.99      0.85      0.91      1374\n",
            "          nv       1.00      1.00      1.00      1358\n",
            "        vasc       0.92      0.99      0.95      1365\n",
            "\n",
            "    accuracy                           0.97      9387\n",
            "   macro avg       0.98      0.98      0.97      9387\n",
            "weighted avg       0.98      0.97      0.97      9387\n",
            "\n"
          ]
        }
      ],
      "source": [
        "from sklearn.metrics import classification_report\n",
        "cm_plot_labels = ['akiec', 'bcc', 'bkl', 'df', 'mel','nv', 'vasc']\n",
        "\n",
        "# Generate a classification report\n",
        "report = classification_report(Y_test, y_pred, target_names=cm_plot_labels)\n",
        "\n",
        "print(report)"
      ]
    },
    {
      "cell_type": "code",
      "source": [
        "plt.plot(history.history['accuracy'])\n",
        "plt.plot(history.history['val_accuracy'])\n",
        "plt.title('model accuracy')\n",
        "plt.ylabel('accuracy')\n",
        "plt.xlabel('epoch')\n",
        "plt.legend(['train', 'val'], loc='upper left')\n",
        "plt.show()"
      ],
      "metadata": {
        "id": "K6J5Qt8w87Pb",
        "colab": {
          "base_uri": "https://localhost:8080/",
          "height": 295
        },
        "outputId": "2f079bb7-1cec-42e5-cd09-54f387a24b69"
      },
      "execution_count": null,
      "outputs": [
        {
          "output_type": "display_data",
          "data": {
            "text/plain": [
              "<Figure size 432x288 with 1 Axes>"
            ],
            "image/png": "[encoded data removed]"
          },
          "metadata": {
            "needs_background": "light"
          }
        }
      ]
    },
    {
      "cell_type": "code",
      "source": [
        "plt.plot(history.history['loss'])\n",
        "plt.plot(history.history['val_loss'])\n",
        "plt.title('model loss')\n",
        "plt.ylabel('loss')\n",
        "plt.xlabel('epoch')\n",
        "plt.legend(['train', 'val'], loc='upper left')\n",
        "plt.show()\n"
      ],
      "metadata": {
        "id": "Zq6esx-jAAHa",
        "colab": {
          "base_uri": "https://localhost:8080/",
          "height": 295
        },
        "outputId": "9b5087bc-888f-4c3a-bce4-91ffdae2be93"
      },
      "execution_count": null,
      "outputs": [
        {
          "output_type": "display_data",
          "data": {
            "text/plain": [
              "<Figure size 432x288 with 1 Axes>"
            ],
            "image/png": "[encoded data removed]"
          },
          "metadata": {
            "needs_background": "light"
          }
        }
      ]
    },
    {
      "cell_type": "code",
      "execution_count": null,
      "metadata": {
        "id": "e9YmmmZVx8G6",
        "colab": {
          "base_uri": "https://localhost:8080/"
        },
        "outputId": "820b1bfc-4fff-467d-986d-363764000d8b"
      },
      "outputs": [
        {
          "output_type": "stream",
          "name": "stdout",
          "text": [
            "INFO:tensorflow:Assets written to: /content/drive/MyDrive/Model_minor_2/assets\n"
          ]
        }
      ],
      "source": [
        "model.save('/content/drive/MyDrive/Model_minor_2')"
      ]
    },
    {
      "cell_type": "code",
      "source": [
        ""
      ],
      "metadata": {
        "id": "CXOk5SvSypqf"
      },
      "execution_count": null,
      "outputs": []
    }
  ],
  "metadata": {
    "accelerator": "GPU",
    "colab": {
      "collapsed_sections": [],
      "name": "Final_minor_sem6.ipynb",
      "provenance": []
    },
    "kernelspec": {
      "display_name": "Python 3",
      "name": "python3"
    },
    "language_info": {
      "name": "python"
    }
  },
  "nbformat": 4,
  "nbformat_minor": 0
}